{
 "cells": [
  {
   "cell_type": "markdown",
   "metadata": {},
   "source": [
    "# Анализ сервиса для чтения книг по подписке(SQL)</div>\n",
    "\n",
    "\n",
    "</b> В нашем распоряжении база данных сервиса для чтения книг по подписке, содержащая информацию о книгах, издательствах, авторах, а также пользовательские обзоры книг. Необходим проанализировать представленные данные для определения ценностного предложения для нового приложения для любителей чтения. Данные мы получим из таблиц `books`, `authors`, `publishers`, `ratings` и `reviews`.</div>\n",
    "\n",
    "\n",
    " #### Задания:</div>\n",
    "\n",
    "\n",
    " - Посчитать, сколько книг вышло после 1 января 2000 года;\n",
    " - Для каждой книги посчитать количество обзоров и среднюю оценку;\n",
    " - Определить издательство, которое выпустило наибольшее число книг толще 50 страниц — так вы исключите из анализа брошюры;\n",
    " - Определить автора с самой высокой средней оценкой книг — учитывайте только книги с 50 и более оценками;\n",
    " - Посчитать среднее количество обзоров от пользователей, которые поставили больше 50 оценок."
   ]
  },
  {
   "cell_type": "code",
   "execution_count": 1,
   "metadata": {},
   "outputs": [],
   "source": [
    "import pandas as pd\n",
    "from sqlalchemy import create_engine #загрузим необходимые библиотеки"
   ]
  },
  {
   "cell_type": "code",
   "execution_count": 2,
   "metadata": {},
   "outputs": [],
   "source": [
    "db_config = {'user': 'praktikum_student',\n",
    "             'pwd': 'Sdf4$2;d-d30pp',\n",
    "             'host': 'rc1b-wcoijxj3yxfsf3fs.mdb.yandexcloud.net',\n",
    "             'port': 6432,\n",
    "             'db': 'data-analyst-final-project-db'}\n",
    "connection_string = 'postgresql://{}:{}@{}:{}/{}'.format(db_config['user'],\n",
    "                                                          db_config['pwd'],\n",
    "                                                          db_config['host'],\n",
    "                                                          db_config['port'],\n",
    "                                                          db_config['db'])\n",
    "\n",
    "engine = create_engine(connection_string, connect_args={'sslmode':'require'}) #подготовим подключение к базе"
   ]
  },
  {
   "cell_type": "markdown",
   "metadata": {},
   "source": [
    "Для начала посмотрим на представленные таблицы с данными: выведем первые строки представленных таблиц, определим сколько строк составляют таблицу, присутствуют ли дубликаты и какие типы данных представлены."
   ]
  },
  {
   "cell_type": "code",
   "execution_count": 3,
   "metadata": {},
   "outputs": [
    {
     "data": {
      "text/html": [
       "<div>\n",
       "<style scoped>\n",
       "    .dataframe tbody tr th:only-of-type {\n",
       "        vertical-align: middle;\n",
       "    }\n",
       "\n",
       "    .dataframe tbody tr th {\n",
       "        vertical-align: top;\n",
       "    }\n",
       "\n",
       "    .dataframe thead th {\n",
       "        text-align: right;\n",
       "    }\n",
       "</style>\n",
       "<table border=\"1\" class=\"dataframe\">\n",
       "  <thead>\n",
       "    <tr style=\"text-align: right;\">\n",
       "      <th></th>\n",
       "      <th>book_id</th>\n",
       "      <th>author_id</th>\n",
       "      <th>title</th>\n",
       "      <th>num_pages</th>\n",
       "      <th>publication_date</th>\n",
       "      <th>publisher_id</th>\n",
       "    </tr>\n",
       "  </thead>\n",
       "  <tbody>\n",
       "    <tr>\n",
       "      <th>0</th>\n",
       "      <td>1</td>\n",
       "      <td>546</td>\n",
       "      <td>'Salem's Lot</td>\n",
       "      <td>594</td>\n",
       "      <td>2005-11-01</td>\n",
       "      <td>93</td>\n",
       "    </tr>\n",
       "    <tr>\n",
       "      <th>1</th>\n",
       "      <td>2</td>\n",
       "      <td>465</td>\n",
       "      <td>1 000 Places to See Before You Die</td>\n",
       "      <td>992</td>\n",
       "      <td>2003-05-22</td>\n",
       "      <td>336</td>\n",
       "    </tr>\n",
       "    <tr>\n",
       "      <th>2</th>\n",
       "      <td>3</td>\n",
       "      <td>407</td>\n",
       "      <td>13 Little Blue Envelopes (Little Blue Envelope...</td>\n",
       "      <td>322</td>\n",
       "      <td>2010-12-21</td>\n",
       "      <td>135</td>\n",
       "    </tr>\n",
       "    <tr>\n",
       "      <th>3</th>\n",
       "      <td>4</td>\n",
       "      <td>82</td>\n",
       "      <td>1491: New Revelations of the Americas Before C...</td>\n",
       "      <td>541</td>\n",
       "      <td>2006-10-10</td>\n",
       "      <td>309</td>\n",
       "    </tr>\n",
       "    <tr>\n",
       "      <th>4</th>\n",
       "      <td>5</td>\n",
       "      <td>125</td>\n",
       "      <td>1776</td>\n",
       "      <td>386</td>\n",
       "      <td>2006-07-04</td>\n",
       "      <td>268</td>\n",
       "    </tr>\n",
       "  </tbody>\n",
       "</table>\n",
       "</div>"
      ],
      "text/plain": [
       "   book_id  author_id                                              title  \\\n",
       "0        1        546                                       'Salem's Lot   \n",
       "1        2        465                 1 000 Places to See Before You Die   \n",
       "2        3        407  13 Little Blue Envelopes (Little Blue Envelope...   \n",
       "3        4         82  1491: New Revelations of the Americas Before C...   \n",
       "4        5        125                                               1776   \n",
       "\n",
       "   num_pages publication_date  publisher_id  \n",
       "0        594       2005-11-01            93  \n",
       "1        992       2003-05-22           336  \n",
       "2        322       2010-12-21           135  \n",
       "3        541       2006-10-10           309  \n",
       "4        386       2006-07-04           268  "
      ]
     },
     "execution_count": 3,
     "metadata": {},
     "output_type": "execute_result"
    }
   ],
   "source": [
    "query = '''\n",
    "           SELECT *\n",
    "           FROM books\n",
    "        '''  \n",
    "pd.io.sql.read_sql(query, con = engine).head()"
   ]
  },
  {
   "cell_type": "code",
   "execution_count": 4,
   "metadata": {},
   "outputs": [
    {
     "data": {
      "text/html": [
       "<div>\n",
       "<style scoped>\n",
       "    .dataframe tbody tr th:only-of-type {\n",
       "        vertical-align: middle;\n",
       "    }\n",
       "\n",
       "    .dataframe tbody tr th {\n",
       "        vertical-align: top;\n",
       "    }\n",
       "\n",
       "    .dataframe thead th {\n",
       "        text-align: right;\n",
       "    }\n",
       "</style>\n",
       "<table border=\"1\" class=\"dataframe\">\n",
       "  <thead>\n",
       "    <tr style=\"text-align: right;\">\n",
       "      <th></th>\n",
       "      <th>count</th>\n",
       "    </tr>\n",
       "  </thead>\n",
       "  <tbody>\n",
       "    <tr>\n",
       "      <th>0</th>\n",
       "      <td>1000</td>\n",
       "    </tr>\n",
       "  </tbody>\n",
       "</table>\n",
       "</div>"
      ],
      "text/plain": [
       "   count\n",
       "0   1000"
      ]
     },
     "execution_count": 4,
     "metadata": {},
     "output_type": "execute_result"
    }
   ],
   "source": [
    "query = '''\n",
    "           SELECT COUNT(*)\n",
    "           FROM books\n",
    "        '''  \n",
    "pd.io.sql.read_sql(query, con = engine).head()"
   ]
  },
  {
   "cell_type": "code",
   "execution_count": 5,
   "metadata": {},
   "outputs": [
    {
     "data": {
      "text/html": [
       "<div>\n",
       "<style scoped>\n",
       "    .dataframe tbody tr th:only-of-type {\n",
       "        vertical-align: middle;\n",
       "    }\n",
       "\n",
       "    .dataframe tbody tr th {\n",
       "        vertical-align: top;\n",
       "    }\n",
       "\n",
       "    .dataframe thead th {\n",
       "        text-align: right;\n",
       "    }\n",
       "</style>\n",
       "<table border=\"1\" class=\"dataframe\">\n",
       "  <thead>\n",
       "    <tr style=\"text-align: right;\">\n",
       "      <th></th>\n",
       "      <th>book_id</th>\n",
       "      <th>author_id</th>\n",
       "      <th>title</th>\n",
       "      <th>num_pages</th>\n",
       "      <th>publication_date</th>\n",
       "      <th>publisher_id</th>\n",
       "    </tr>\n",
       "  </thead>\n",
       "  <tbody>\n",
       "  </tbody>\n",
       "</table>\n",
       "</div>"
      ],
      "text/plain": [
       "Empty DataFrame\n",
       "Columns: [book_id, author_id, title, num_pages, publication_date, publisher_id]\n",
       "Index: []"
      ]
     },
     "execution_count": 5,
     "metadata": {},
     "output_type": "execute_result"
    }
   ],
   "source": [
    "query_d = '''\n",
    "           SELECT * \n",
    "           FROM books \n",
    "           WHERE ctid NOT IN (SELECT max(ctid) FROM books GROUP BY book_id)\n",
    "        '''  \n",
    "pd.io.sql.read_sql(query_d, con = engine).head()"
   ]
  },
  {
   "cell_type": "code",
   "execution_count": 6,
   "metadata": {},
   "outputs": [
    {
     "data": {
      "text/html": [
       "<div>\n",
       "<style scoped>\n",
       "    .dataframe tbody tr th:only-of-type {\n",
       "        vertical-align: middle;\n",
       "    }\n",
       "\n",
       "    .dataframe tbody tr th {\n",
       "        vertical-align: top;\n",
       "    }\n",
       "\n",
       "    .dataframe thead th {\n",
       "        text-align: right;\n",
       "    }\n",
       "</style>\n",
       "<table border=\"1\" class=\"dataframe\">\n",
       "  <thead>\n",
       "    <tr style=\"text-align: right;\">\n",
       "      <th></th>\n",
       "      <th>column_name</th>\n",
       "      <th>column_default</th>\n",
       "      <th>data_type</th>\n",
       "    </tr>\n",
       "  </thead>\n",
       "  <tbody>\n",
       "    <tr>\n",
       "      <th>0</th>\n",
       "      <td>book_id</td>\n",
       "      <td>None</td>\n",
       "      <td>integer</td>\n",
       "    </tr>\n",
       "    <tr>\n",
       "      <th>1</th>\n",
       "      <td>author_id</td>\n",
       "      <td>None</td>\n",
       "      <td>integer</td>\n",
       "    </tr>\n",
       "    <tr>\n",
       "      <th>2</th>\n",
       "      <td>title</td>\n",
       "      <td>None</td>\n",
       "      <td>text</td>\n",
       "    </tr>\n",
       "    <tr>\n",
       "      <th>3</th>\n",
       "      <td>num_pages</td>\n",
       "      <td>None</td>\n",
       "      <td>integer</td>\n",
       "    </tr>\n",
       "    <tr>\n",
       "      <th>4</th>\n",
       "      <td>publication_date</td>\n",
       "      <td>None</td>\n",
       "      <td>date</td>\n",
       "    </tr>\n",
       "  </tbody>\n",
       "</table>\n",
       "</div>"
      ],
      "text/plain": [
       "        column_name column_default data_type\n",
       "0           book_id           None   integer\n",
       "1         author_id           None   integer\n",
       "2             title           None      text\n",
       "3         num_pages           None   integer\n",
       "4  publication_date           None      date"
      ]
     },
     "execution_count": 6,
     "metadata": {},
     "output_type": "execute_result"
    }
   ],
   "source": [
    "query_d = '''\n",
    "           SELECT column_name, column_default, data_type \n",
    "           FROM INFORMATION_SCHEMA.COLUMNS \n",
    "           WHERE table_name = 'books';\n",
    "        '''  \n",
    "pd.io.sql.read_sql(query_d, con = engine).head()"
   ]
  },
  {
   "cell_type": "markdown",
   "metadata": {},
   "source": [
    "Таблица books содержит информацию о книгах, в частности индентификаторы книг и авторов, названия книг, количество страниц, дату публикации и идентификатор издателя. Количество строк - 1000. Данные представлены в корректных форматах, дубликатов не имеется."
   ]
  },
  {
   "cell_type": "code",
   "execution_count": 7,
   "metadata": {},
   "outputs": [
    {
     "data": {
      "text/html": [
       "<div>\n",
       "<style scoped>\n",
       "    .dataframe tbody tr th:only-of-type {\n",
       "        vertical-align: middle;\n",
       "    }\n",
       "\n",
       "    .dataframe tbody tr th {\n",
       "        vertical-align: top;\n",
       "    }\n",
       "\n",
       "    .dataframe thead th {\n",
       "        text-align: right;\n",
       "    }\n",
       "</style>\n",
       "<table border=\"1\" class=\"dataframe\">\n",
       "  <thead>\n",
       "    <tr style=\"text-align: right;\">\n",
       "      <th></th>\n",
       "      <th>author_id</th>\n",
       "      <th>author</th>\n",
       "    </tr>\n",
       "  </thead>\n",
       "  <tbody>\n",
       "    <tr>\n",
       "      <th>0</th>\n",
       "      <td>1</td>\n",
       "      <td>A.S. Byatt</td>\n",
       "    </tr>\n",
       "    <tr>\n",
       "      <th>1</th>\n",
       "      <td>2</td>\n",
       "      <td>Aesop/Laura Harris/Laura Gibbs</td>\n",
       "    </tr>\n",
       "    <tr>\n",
       "      <th>2</th>\n",
       "      <td>3</td>\n",
       "      <td>Agatha Christie</td>\n",
       "    </tr>\n",
       "    <tr>\n",
       "      <th>3</th>\n",
       "      <td>4</td>\n",
       "      <td>Alan Brennert</td>\n",
       "    </tr>\n",
       "    <tr>\n",
       "      <th>4</th>\n",
       "      <td>5</td>\n",
       "      <td>Alan Moore/David   Lloyd</td>\n",
       "    </tr>\n",
       "  </tbody>\n",
       "</table>\n",
       "</div>"
      ],
      "text/plain": [
       "   author_id                          author\n",
       "0          1                      A.S. Byatt\n",
       "1          2  Aesop/Laura Harris/Laura Gibbs\n",
       "2          3                 Agatha Christie\n",
       "3          4                   Alan Brennert\n",
       "4          5        Alan Moore/David   Lloyd"
      ]
     },
     "execution_count": 7,
     "metadata": {},
     "output_type": "execute_result"
    }
   ],
   "source": [
    "query = '''\n",
    "           SELECT *\n",
    "           FROM authors\n",
    "        '''  \n",
    "pd.io.sql.read_sql(query, con = engine).head()"
   ]
  },
  {
   "cell_type": "code",
   "execution_count": 8,
   "metadata": {},
   "outputs": [
    {
     "data": {
      "text/html": [
       "<div>\n",
       "<style scoped>\n",
       "    .dataframe tbody tr th:only-of-type {\n",
       "        vertical-align: middle;\n",
       "    }\n",
       "\n",
       "    .dataframe tbody tr th {\n",
       "        vertical-align: top;\n",
       "    }\n",
       "\n",
       "    .dataframe thead th {\n",
       "        text-align: right;\n",
       "    }\n",
       "</style>\n",
       "<table border=\"1\" class=\"dataframe\">\n",
       "  <thead>\n",
       "    <tr style=\"text-align: right;\">\n",
       "      <th></th>\n",
       "      <th>count</th>\n",
       "    </tr>\n",
       "  </thead>\n",
       "  <tbody>\n",
       "    <tr>\n",
       "      <th>0</th>\n",
       "      <td>636</td>\n",
       "    </tr>\n",
       "  </tbody>\n",
       "</table>\n",
       "</div>"
      ],
      "text/plain": [
       "   count\n",
       "0    636"
      ]
     },
     "execution_count": 8,
     "metadata": {},
     "output_type": "execute_result"
    }
   ],
   "source": [
    "query = '''\n",
    "           SELECT COUNT(*)\n",
    "           FROM authors\n",
    "        '''  \n",
    "pd.io.sql.read_sql(query, con = engine).head()"
   ]
  },
  {
   "cell_type": "code",
   "execution_count": 9,
   "metadata": {},
   "outputs": [
    {
     "data": {
      "text/html": [
       "<div>\n",
       "<style scoped>\n",
       "    .dataframe tbody tr th:only-of-type {\n",
       "        vertical-align: middle;\n",
       "    }\n",
       "\n",
       "    .dataframe tbody tr th {\n",
       "        vertical-align: top;\n",
       "    }\n",
       "\n",
       "    .dataframe thead th {\n",
       "        text-align: right;\n",
       "    }\n",
       "</style>\n",
       "<table border=\"1\" class=\"dataframe\">\n",
       "  <thead>\n",
       "    <tr style=\"text-align: right;\">\n",
       "      <th></th>\n",
       "      <th>author_id</th>\n",
       "      <th>author</th>\n",
       "    </tr>\n",
       "  </thead>\n",
       "  <tbody>\n",
       "  </tbody>\n",
       "</table>\n",
       "</div>"
      ],
      "text/plain": [
       "Empty DataFrame\n",
       "Columns: [author_id, author]\n",
       "Index: []"
      ]
     },
     "execution_count": 9,
     "metadata": {},
     "output_type": "execute_result"
    }
   ],
   "source": [
    "query_d = '''\n",
    "           SELECT * \n",
    "           FROM authors \n",
    "           WHERE ctid NOT IN (SELECT max(ctid) FROM authors GROUP BY author_id)\n",
    "        '''  \n",
    "pd.io.sql.read_sql(query_d, con = engine).head()"
   ]
  },
  {
   "cell_type": "code",
   "execution_count": 10,
   "metadata": {},
   "outputs": [
    {
     "data": {
      "text/html": [
       "<div>\n",
       "<style scoped>\n",
       "    .dataframe tbody tr th:only-of-type {\n",
       "        vertical-align: middle;\n",
       "    }\n",
       "\n",
       "    .dataframe tbody tr th {\n",
       "        vertical-align: top;\n",
       "    }\n",
       "\n",
       "    .dataframe thead th {\n",
       "        text-align: right;\n",
       "    }\n",
       "</style>\n",
       "<table border=\"1\" class=\"dataframe\">\n",
       "  <thead>\n",
       "    <tr style=\"text-align: right;\">\n",
       "      <th></th>\n",
       "      <th>column_name</th>\n",
       "      <th>column_default</th>\n",
       "      <th>data_type</th>\n",
       "    </tr>\n",
       "  </thead>\n",
       "  <tbody>\n",
       "    <tr>\n",
       "      <th>0</th>\n",
       "      <td>author_id</td>\n",
       "      <td>None</td>\n",
       "      <td>integer</td>\n",
       "    </tr>\n",
       "    <tr>\n",
       "      <th>1</th>\n",
       "      <td>author</td>\n",
       "      <td>None</td>\n",
       "      <td>text</td>\n",
       "    </tr>\n",
       "  </tbody>\n",
       "</table>\n",
       "</div>"
      ],
      "text/plain": [
       "  column_name column_default data_type\n",
       "0   author_id           None   integer\n",
       "1      author           None      text"
      ]
     },
     "execution_count": 10,
     "metadata": {},
     "output_type": "execute_result"
    }
   ],
   "source": [
    "query_d = '''\n",
    "           SELECT column_name, column_default, data_type \n",
    "           FROM INFORMATION_SCHEMA.COLUMNS \n",
    "           WHERE table_name = 'authors';\n",
    "        '''  \n",
    "pd.io.sql.read_sql(query_d, con = engine).head()"
   ]
  },
  {
   "cell_type": "markdown",
   "metadata": {},
   "source": [
    "В таблице authors собрана информация о 636 авторах и состоит из столбцов \"идентификатор автора\" и \"имя автора\". Дублирующихся значений нет, данные представлены в корректных форматах."
   ]
  },
  {
   "cell_type": "code",
   "execution_count": 11,
   "metadata": {
    "scrolled": true
   },
   "outputs": [
    {
     "data": {
      "text/html": [
       "<div>\n",
       "<style scoped>\n",
       "    .dataframe tbody tr th:only-of-type {\n",
       "        vertical-align: middle;\n",
       "    }\n",
       "\n",
       "    .dataframe tbody tr th {\n",
       "        vertical-align: top;\n",
       "    }\n",
       "\n",
       "    .dataframe thead th {\n",
       "        text-align: right;\n",
       "    }\n",
       "</style>\n",
       "<table border=\"1\" class=\"dataframe\">\n",
       "  <thead>\n",
       "    <tr style=\"text-align: right;\">\n",
       "      <th></th>\n",
       "      <th>publisher_id</th>\n",
       "      <th>publisher</th>\n",
       "    </tr>\n",
       "  </thead>\n",
       "  <tbody>\n",
       "    <tr>\n",
       "      <th>0</th>\n",
       "      <td>1</td>\n",
       "      <td>Ace</td>\n",
       "    </tr>\n",
       "    <tr>\n",
       "      <th>1</th>\n",
       "      <td>2</td>\n",
       "      <td>Ace Book</td>\n",
       "    </tr>\n",
       "    <tr>\n",
       "      <th>2</th>\n",
       "      <td>3</td>\n",
       "      <td>Ace Books</td>\n",
       "    </tr>\n",
       "    <tr>\n",
       "      <th>3</th>\n",
       "      <td>4</td>\n",
       "      <td>Ace Hardcover</td>\n",
       "    </tr>\n",
       "    <tr>\n",
       "      <th>4</th>\n",
       "      <td>5</td>\n",
       "      <td>Addison Wesley Publishing Company</td>\n",
       "    </tr>\n",
       "  </tbody>\n",
       "</table>\n",
       "</div>"
      ],
      "text/plain": [
       "   publisher_id                          publisher\n",
       "0             1                                Ace\n",
       "1             2                           Ace Book\n",
       "2             3                          Ace Books\n",
       "3             4                      Ace Hardcover\n",
       "4             5  Addison Wesley Publishing Company"
      ]
     },
     "execution_count": 11,
     "metadata": {},
     "output_type": "execute_result"
    }
   ],
   "source": [
    "query = '''\n",
    "           SELECT *\n",
    "           FROM publishers\n",
    "        '''  \n",
    "pd.io.sql.read_sql(query, con = engine).head()"
   ]
  },
  {
   "cell_type": "code",
   "execution_count": 12,
   "metadata": {},
   "outputs": [
    {
     "data": {
      "text/html": [
       "<div>\n",
       "<style scoped>\n",
       "    .dataframe tbody tr th:only-of-type {\n",
       "        vertical-align: middle;\n",
       "    }\n",
       "\n",
       "    .dataframe tbody tr th {\n",
       "        vertical-align: top;\n",
       "    }\n",
       "\n",
       "    .dataframe thead th {\n",
       "        text-align: right;\n",
       "    }\n",
       "</style>\n",
       "<table border=\"1\" class=\"dataframe\">\n",
       "  <thead>\n",
       "    <tr style=\"text-align: right;\">\n",
       "      <th></th>\n",
       "      <th>count</th>\n",
       "    </tr>\n",
       "  </thead>\n",
       "  <tbody>\n",
       "    <tr>\n",
       "      <th>0</th>\n",
       "      <td>340</td>\n",
       "    </tr>\n",
       "  </tbody>\n",
       "</table>\n",
       "</div>"
      ],
      "text/plain": [
       "   count\n",
       "0    340"
      ]
     },
     "execution_count": 12,
     "metadata": {},
     "output_type": "execute_result"
    }
   ],
   "source": [
    "query = '''\n",
    "           SELECT COUNT(*)\n",
    "           FROM publishers\n",
    "        '''  \n",
    "pd.io.sql.read_sql(query, con = engine).head()"
   ]
  },
  {
   "cell_type": "code",
   "execution_count": 13,
   "metadata": {},
   "outputs": [
    {
     "data": {
      "text/html": [
       "<div>\n",
       "<style scoped>\n",
       "    .dataframe tbody tr th:only-of-type {\n",
       "        vertical-align: middle;\n",
       "    }\n",
       "\n",
       "    .dataframe tbody tr th {\n",
       "        vertical-align: top;\n",
       "    }\n",
       "\n",
       "    .dataframe thead th {\n",
       "        text-align: right;\n",
       "    }\n",
       "</style>\n",
       "<table border=\"1\" class=\"dataframe\">\n",
       "  <thead>\n",
       "    <tr style=\"text-align: right;\">\n",
       "      <th></th>\n",
       "      <th>publisher_id</th>\n",
       "      <th>publisher</th>\n",
       "    </tr>\n",
       "  </thead>\n",
       "  <tbody>\n",
       "  </tbody>\n",
       "</table>\n",
       "</div>"
      ],
      "text/plain": [
       "Empty DataFrame\n",
       "Columns: [publisher_id, publisher]\n",
       "Index: []"
      ]
     },
     "execution_count": 13,
     "metadata": {},
     "output_type": "execute_result"
    }
   ],
   "source": [
    "query_d = '''\n",
    "           SELECT * \n",
    "           FROM publishers \n",
    "           WHERE ctid NOT IN (SELECT max(ctid) FROM publishers GROUP BY publisher_id)\n",
    "        '''  \n",
    "pd.io.sql.read_sql(query_d, con = engine).head()"
   ]
  },
  {
   "cell_type": "code",
   "execution_count": 14,
   "metadata": {},
   "outputs": [
    {
     "data": {
      "text/html": [
       "<div>\n",
       "<style scoped>\n",
       "    .dataframe tbody tr th:only-of-type {\n",
       "        vertical-align: middle;\n",
       "    }\n",
       "\n",
       "    .dataframe tbody tr th {\n",
       "        vertical-align: top;\n",
       "    }\n",
       "\n",
       "    .dataframe thead th {\n",
       "        text-align: right;\n",
       "    }\n",
       "</style>\n",
       "<table border=\"1\" class=\"dataframe\">\n",
       "  <thead>\n",
       "    <tr style=\"text-align: right;\">\n",
       "      <th></th>\n",
       "      <th>column_name</th>\n",
       "      <th>column_default</th>\n",
       "      <th>data_type</th>\n",
       "    </tr>\n",
       "  </thead>\n",
       "  <tbody>\n",
       "    <tr>\n",
       "      <th>0</th>\n",
       "      <td>publisher_id</td>\n",
       "      <td>None</td>\n",
       "      <td>integer</td>\n",
       "    </tr>\n",
       "    <tr>\n",
       "      <th>1</th>\n",
       "      <td>publisher</td>\n",
       "      <td>None</td>\n",
       "      <td>text</td>\n",
       "    </tr>\n",
       "  </tbody>\n",
       "</table>\n",
       "</div>"
      ],
      "text/plain": [
       "    column_name column_default data_type\n",
       "0  publisher_id           None   integer\n",
       "1     publisher           None      text"
      ]
     },
     "execution_count": 14,
     "metadata": {},
     "output_type": "execute_result"
    }
   ],
   "source": [
    "query_d = '''\n",
    "           SELECT column_name, column_default, data_type \n",
    "           FROM INFORMATION_SCHEMA.COLUMNS \n",
    "           WHERE table_name = 'publishers';\n",
    "        '''  \n",
    "pd.io.sql.read_sql(query_d, con = engine).head()"
   ]
  },
  {
   "cell_type": "markdown",
   "metadata": {},
   "source": [
    "Таблица publishers содержит данные об идентификаторах издательств и их названий, которых насчитывается 340. Дубликатов не имеется."
   ]
  },
  {
   "cell_type": "code",
   "execution_count": 15,
   "metadata": {},
   "outputs": [
    {
     "data": {
      "text/html": [
       "<div>\n",
       "<style scoped>\n",
       "    .dataframe tbody tr th:only-of-type {\n",
       "        vertical-align: middle;\n",
       "    }\n",
       "\n",
       "    .dataframe tbody tr th {\n",
       "        vertical-align: top;\n",
       "    }\n",
       "\n",
       "    .dataframe thead th {\n",
       "        text-align: right;\n",
       "    }\n",
       "</style>\n",
       "<table border=\"1\" class=\"dataframe\">\n",
       "  <thead>\n",
       "    <tr style=\"text-align: right;\">\n",
       "      <th></th>\n",
       "      <th>rating_id</th>\n",
       "      <th>book_id</th>\n",
       "      <th>username</th>\n",
       "      <th>rating</th>\n",
       "    </tr>\n",
       "  </thead>\n",
       "  <tbody>\n",
       "    <tr>\n",
       "      <th>0</th>\n",
       "      <td>1</td>\n",
       "      <td>1</td>\n",
       "      <td>ryanfranco</td>\n",
       "      <td>4</td>\n",
       "    </tr>\n",
       "    <tr>\n",
       "      <th>1</th>\n",
       "      <td>2</td>\n",
       "      <td>1</td>\n",
       "      <td>grantpatricia</td>\n",
       "      <td>2</td>\n",
       "    </tr>\n",
       "    <tr>\n",
       "      <th>2</th>\n",
       "      <td>3</td>\n",
       "      <td>1</td>\n",
       "      <td>brandtandrea</td>\n",
       "      <td>5</td>\n",
       "    </tr>\n",
       "    <tr>\n",
       "      <th>3</th>\n",
       "      <td>4</td>\n",
       "      <td>2</td>\n",
       "      <td>lorichen</td>\n",
       "      <td>3</td>\n",
       "    </tr>\n",
       "    <tr>\n",
       "      <th>4</th>\n",
       "      <td>5</td>\n",
       "      <td>2</td>\n",
       "      <td>mariokeller</td>\n",
       "      <td>2</td>\n",
       "    </tr>\n",
       "  </tbody>\n",
       "</table>\n",
       "</div>"
      ],
      "text/plain": [
       "   rating_id  book_id       username  rating\n",
       "0          1        1     ryanfranco       4\n",
       "1          2        1  grantpatricia       2\n",
       "2          3        1   brandtandrea       5\n",
       "3          4        2       lorichen       3\n",
       "4          5        2    mariokeller       2"
      ]
     },
     "execution_count": 15,
     "metadata": {},
     "output_type": "execute_result"
    }
   ],
   "source": [
    "query = '''\n",
    "           SELECT *\n",
    "           FROM ratings\n",
    "        '''  \n",
    "pd.io.sql.read_sql(query, con = engine).head()"
   ]
  },
  {
   "cell_type": "code",
   "execution_count": 16,
   "metadata": {},
   "outputs": [
    {
     "data": {
      "text/html": [
       "<div>\n",
       "<style scoped>\n",
       "    .dataframe tbody tr th:only-of-type {\n",
       "        vertical-align: middle;\n",
       "    }\n",
       "\n",
       "    .dataframe tbody tr th {\n",
       "        vertical-align: top;\n",
       "    }\n",
       "\n",
       "    .dataframe thead th {\n",
       "        text-align: right;\n",
       "    }\n",
       "</style>\n",
       "<table border=\"1\" class=\"dataframe\">\n",
       "  <thead>\n",
       "    <tr style=\"text-align: right;\">\n",
       "      <th></th>\n",
       "      <th>count</th>\n",
       "    </tr>\n",
       "  </thead>\n",
       "  <tbody>\n",
       "    <tr>\n",
       "      <th>0</th>\n",
       "      <td>6456</td>\n",
       "    </tr>\n",
       "  </tbody>\n",
       "</table>\n",
       "</div>"
      ],
      "text/plain": [
       "   count\n",
       "0   6456"
      ]
     },
     "execution_count": 16,
     "metadata": {},
     "output_type": "execute_result"
    }
   ],
   "source": [
    "query = '''\n",
    "           SELECT COUNT(*)\n",
    "           FROM ratings\n",
    "        '''  \n",
    "pd.io.sql.read_sql(query, con = engine).head()"
   ]
  },
  {
   "cell_type": "code",
   "execution_count": 17,
   "metadata": {},
   "outputs": [
    {
     "data": {
      "text/html": [
       "<div>\n",
       "<style scoped>\n",
       "    .dataframe tbody tr th:only-of-type {\n",
       "        vertical-align: middle;\n",
       "    }\n",
       "\n",
       "    .dataframe tbody tr th {\n",
       "        vertical-align: top;\n",
       "    }\n",
       "\n",
       "    .dataframe thead th {\n",
       "        text-align: right;\n",
       "    }\n",
       "</style>\n",
       "<table border=\"1\" class=\"dataframe\">\n",
       "  <thead>\n",
       "    <tr style=\"text-align: right;\">\n",
       "      <th></th>\n",
       "      <th>rating_id</th>\n",
       "      <th>book_id</th>\n",
       "      <th>username</th>\n",
       "      <th>rating</th>\n",
       "    </tr>\n",
       "  </thead>\n",
       "  <tbody>\n",
       "  </tbody>\n",
       "</table>\n",
       "</div>"
      ],
      "text/plain": [
       "Empty DataFrame\n",
       "Columns: [rating_id, book_id, username, rating]\n",
       "Index: []"
      ]
     },
     "execution_count": 17,
     "metadata": {},
     "output_type": "execute_result"
    }
   ],
   "source": [
    "query_d = '''\n",
    "           SELECT * \n",
    "           FROM ratings \n",
    "           WHERE ctid NOT IN (SELECT max(ctid) FROM ratings GROUP BY rating_id)\n",
    "        '''  \n",
    "pd.io.sql.read_sql(query_d, con = engine).head()"
   ]
  },
  {
   "cell_type": "code",
   "execution_count": 18,
   "metadata": {},
   "outputs": [
    {
     "data": {
      "text/html": [
       "<div>\n",
       "<style scoped>\n",
       "    .dataframe tbody tr th:only-of-type {\n",
       "        vertical-align: middle;\n",
       "    }\n",
       "\n",
       "    .dataframe tbody tr th {\n",
       "        vertical-align: top;\n",
       "    }\n",
       "\n",
       "    .dataframe thead th {\n",
       "        text-align: right;\n",
       "    }\n",
       "</style>\n",
       "<table border=\"1\" class=\"dataframe\">\n",
       "  <thead>\n",
       "    <tr style=\"text-align: right;\">\n",
       "      <th></th>\n",
       "      <th>column_name</th>\n",
       "      <th>column_default</th>\n",
       "      <th>data_type</th>\n",
       "    </tr>\n",
       "  </thead>\n",
       "  <tbody>\n",
       "    <tr>\n",
       "      <th>0</th>\n",
       "      <td>rating_id</td>\n",
       "      <td>None</td>\n",
       "      <td>integer</td>\n",
       "    </tr>\n",
       "    <tr>\n",
       "      <th>1</th>\n",
       "      <td>book_id</td>\n",
       "      <td>None</td>\n",
       "      <td>integer</td>\n",
       "    </tr>\n",
       "    <tr>\n",
       "      <th>2</th>\n",
       "      <td>username</td>\n",
       "      <td>None</td>\n",
       "      <td>text</td>\n",
       "    </tr>\n",
       "    <tr>\n",
       "      <th>3</th>\n",
       "      <td>rating</td>\n",
       "      <td>None</td>\n",
       "      <td>integer</td>\n",
       "    </tr>\n",
       "  </tbody>\n",
       "</table>\n",
       "</div>"
      ],
      "text/plain": [
       "  column_name column_default data_type\n",
       "0   rating_id           None   integer\n",
       "1     book_id           None   integer\n",
       "2    username           None      text\n",
       "3      rating           None   integer"
      ]
     },
     "execution_count": 18,
     "metadata": {},
     "output_type": "execute_result"
    }
   ],
   "source": [
    "query_d = '''\n",
    "           SELECT column_name, column_default, data_type \n",
    "           FROM INFORMATION_SCHEMA.COLUMNS \n",
    "           WHERE table_name = 'ratings';\n",
    "        '''  \n",
    "pd.io.sql.read_sql(query_d, con = engine).head()"
   ]
  },
  {
   "cell_type": "markdown",
   "metadata": {},
   "source": [
    "В таблице ratings представлены данные о 6456 пользовательских оценках книг: идентификатор оценки, идентификатор книги, имя пользователя, оставившего оценку, и оценка книги."
   ]
  },
  {
   "cell_type": "code",
   "execution_count": 19,
   "metadata": {},
   "outputs": [
    {
     "data": {
      "text/html": [
       "<div>\n",
       "<style scoped>\n",
       "    .dataframe tbody tr th:only-of-type {\n",
       "        vertical-align: middle;\n",
       "    }\n",
       "\n",
       "    .dataframe tbody tr th {\n",
       "        vertical-align: top;\n",
       "    }\n",
       "\n",
       "    .dataframe thead th {\n",
       "        text-align: right;\n",
       "    }\n",
       "</style>\n",
       "<table border=\"1\" class=\"dataframe\">\n",
       "  <thead>\n",
       "    <tr style=\"text-align: right;\">\n",
       "      <th></th>\n",
       "      <th>review_id</th>\n",
       "      <th>book_id</th>\n",
       "      <th>username</th>\n",
       "      <th>text</th>\n",
       "    </tr>\n",
       "  </thead>\n",
       "  <tbody>\n",
       "    <tr>\n",
       "      <th>0</th>\n",
       "      <td>1</td>\n",
       "      <td>1</td>\n",
       "      <td>brandtandrea</td>\n",
       "      <td>Mention society tell send professor analysis. ...</td>\n",
       "    </tr>\n",
       "    <tr>\n",
       "      <th>1</th>\n",
       "      <td>2</td>\n",
       "      <td>1</td>\n",
       "      <td>ryanfranco</td>\n",
       "      <td>Foot glass pretty audience hit themselves. Amo...</td>\n",
       "    </tr>\n",
       "    <tr>\n",
       "      <th>2</th>\n",
       "      <td>3</td>\n",
       "      <td>2</td>\n",
       "      <td>lorichen</td>\n",
       "      <td>Listen treat keep worry. Miss husband tax but ...</td>\n",
       "    </tr>\n",
       "    <tr>\n",
       "      <th>3</th>\n",
       "      <td>4</td>\n",
       "      <td>3</td>\n",
       "      <td>johnsonamanda</td>\n",
       "      <td>Finally month interesting blue could nature cu...</td>\n",
       "    </tr>\n",
       "    <tr>\n",
       "      <th>4</th>\n",
       "      <td>5</td>\n",
       "      <td>3</td>\n",
       "      <td>scotttamara</td>\n",
       "      <td>Nation purpose heavy give wait song will. List...</td>\n",
       "    </tr>\n",
       "  </tbody>\n",
       "</table>\n",
       "</div>"
      ],
      "text/plain": [
       "   review_id  book_id       username  \\\n",
       "0          1        1   brandtandrea   \n",
       "1          2        1     ryanfranco   \n",
       "2          3        2       lorichen   \n",
       "3          4        3  johnsonamanda   \n",
       "4          5        3    scotttamara   \n",
       "\n",
       "                                                text  \n",
       "0  Mention society tell send professor analysis. ...  \n",
       "1  Foot glass pretty audience hit themselves. Amo...  \n",
       "2  Listen treat keep worry. Miss husband tax but ...  \n",
       "3  Finally month interesting blue could nature cu...  \n",
       "4  Nation purpose heavy give wait song will. List...  "
      ]
     },
     "execution_count": 19,
     "metadata": {},
     "output_type": "execute_result"
    }
   ],
   "source": [
    "query = '''\n",
    "           SELECT *\n",
    "           FROM reviews\n",
    "        '''  \n",
    "pd.io.sql.read_sql(query, con = engine).head()"
   ]
  },
  {
   "cell_type": "code",
   "execution_count": 20,
   "metadata": {},
   "outputs": [
    {
     "data": {
      "text/html": [
       "<div>\n",
       "<style scoped>\n",
       "    .dataframe tbody tr th:only-of-type {\n",
       "        vertical-align: middle;\n",
       "    }\n",
       "\n",
       "    .dataframe tbody tr th {\n",
       "        vertical-align: top;\n",
       "    }\n",
       "\n",
       "    .dataframe thead th {\n",
       "        text-align: right;\n",
       "    }\n",
       "</style>\n",
       "<table border=\"1\" class=\"dataframe\">\n",
       "  <thead>\n",
       "    <tr style=\"text-align: right;\">\n",
       "      <th></th>\n",
       "      <th>count</th>\n",
       "    </tr>\n",
       "  </thead>\n",
       "  <tbody>\n",
       "    <tr>\n",
       "      <th>0</th>\n",
       "      <td>2793</td>\n",
       "    </tr>\n",
       "  </tbody>\n",
       "</table>\n",
       "</div>"
      ],
      "text/plain": [
       "   count\n",
       "0   2793"
      ]
     },
     "execution_count": 20,
     "metadata": {},
     "output_type": "execute_result"
    }
   ],
   "source": [
    "query = '''\n",
    "           SELECT COUNT(*)\n",
    "           FROM reviews\n",
    "        '''  \n",
    "pd.io.sql.read_sql(query, con = engine).head()"
   ]
  },
  {
   "cell_type": "code",
   "execution_count": 21,
   "metadata": {},
   "outputs": [
    {
     "data": {
      "text/html": [
       "<div>\n",
       "<style scoped>\n",
       "    .dataframe tbody tr th:only-of-type {\n",
       "        vertical-align: middle;\n",
       "    }\n",
       "\n",
       "    .dataframe tbody tr th {\n",
       "        vertical-align: top;\n",
       "    }\n",
       "\n",
       "    .dataframe thead th {\n",
       "        text-align: right;\n",
       "    }\n",
       "</style>\n",
       "<table border=\"1\" class=\"dataframe\">\n",
       "  <thead>\n",
       "    <tr style=\"text-align: right;\">\n",
       "      <th></th>\n",
       "      <th>review_id</th>\n",
       "      <th>book_id</th>\n",
       "      <th>username</th>\n",
       "      <th>text</th>\n",
       "    </tr>\n",
       "  </thead>\n",
       "  <tbody>\n",
       "  </tbody>\n",
       "</table>\n",
       "</div>"
      ],
      "text/plain": [
       "Empty DataFrame\n",
       "Columns: [review_id, book_id, username, text]\n",
       "Index: []"
      ]
     },
     "execution_count": 21,
     "metadata": {},
     "output_type": "execute_result"
    }
   ],
   "source": [
    "query_d = '''\n",
    "           SELECT * \n",
    "           FROM reviews \n",
    "           WHERE ctid NOT IN (SELECT max(ctid) FROM reviews GROUP BY review_id)\n",
    "        '''  \n",
    "pd.io.sql.read_sql(query_d, con = engine).head()"
   ]
  },
  {
   "cell_type": "code",
   "execution_count": 22,
   "metadata": {},
   "outputs": [
    {
     "data": {
      "text/html": [
       "<div>\n",
       "<style scoped>\n",
       "    .dataframe tbody tr th:only-of-type {\n",
       "        vertical-align: middle;\n",
       "    }\n",
       "\n",
       "    .dataframe tbody tr th {\n",
       "        vertical-align: top;\n",
       "    }\n",
       "\n",
       "    .dataframe thead th {\n",
       "        text-align: right;\n",
       "    }\n",
       "</style>\n",
       "<table border=\"1\" class=\"dataframe\">\n",
       "  <thead>\n",
       "    <tr style=\"text-align: right;\">\n",
       "      <th></th>\n",
       "      <th>column_name</th>\n",
       "      <th>column_default</th>\n",
       "      <th>data_type</th>\n",
       "    </tr>\n",
       "  </thead>\n",
       "  <tbody>\n",
       "    <tr>\n",
       "      <th>0</th>\n",
       "      <td>review_id</td>\n",
       "      <td>None</td>\n",
       "      <td>integer</td>\n",
       "    </tr>\n",
       "    <tr>\n",
       "      <th>1</th>\n",
       "      <td>book_id</td>\n",
       "      <td>None</td>\n",
       "      <td>integer</td>\n",
       "    </tr>\n",
       "    <tr>\n",
       "      <th>2</th>\n",
       "      <td>username</td>\n",
       "      <td>None</td>\n",
       "      <td>text</td>\n",
       "    </tr>\n",
       "    <tr>\n",
       "      <th>3</th>\n",
       "      <td>text</td>\n",
       "      <td>None</td>\n",
       "      <td>text</td>\n",
       "    </tr>\n",
       "  </tbody>\n",
       "</table>\n",
       "</div>"
      ],
      "text/plain": [
       "  column_name column_default data_type\n",
       "0   review_id           None   integer\n",
       "1     book_id           None   integer\n",
       "2    username           None      text\n",
       "3        text           None      text"
      ]
     },
     "execution_count": 22,
     "metadata": {},
     "output_type": "execute_result"
    }
   ],
   "source": [
    "query_d = '''\n",
    "           SELECT column_name, column_default, data_type \n",
    "           FROM INFORMATION_SCHEMA.COLUMNS \n",
    "           WHERE table_name = 'reviews';\n",
    "        '''  \n",
    "pd.io.sql.read_sql(query_d, con = engine).head()"
   ]
  },
  {
   "cell_type": "markdown",
   "metadata": {},
   "source": [
    "Таблица reviews содержит данные о пользовательских обзорах: идентификатор обзора, идентификатор книги, имя автора обзора, текст обзора. Таких обзоров насчитывается 2793.\n",
    "\n",
    "Далее посчитаем сколько было выпущено книг после 1 января 2000 года."
   ]
  },
  {
   "cell_type": "code",
   "execution_count": 23,
   "metadata": {
    "scrolled": false
   },
   "outputs": [
    {
     "data": {
      "text/html": [
       "<div>\n",
       "<style scoped>\n",
       "    .dataframe tbody tr th:only-of-type {\n",
       "        vertical-align: middle;\n",
       "    }\n",
       "\n",
       "    .dataframe tbody tr th {\n",
       "        vertical-align: top;\n",
       "    }\n",
       "\n",
       "    .dataframe thead th {\n",
       "        text-align: right;\n",
       "    }\n",
       "</style>\n",
       "<table border=\"1\" class=\"dataframe\">\n",
       "  <thead>\n",
       "    <tr style=\"text-align: right;\">\n",
       "      <th></th>\n",
       "      <th>sum_title</th>\n",
       "    </tr>\n",
       "  </thead>\n",
       "  <tbody>\n",
       "    <tr>\n",
       "      <th>0</th>\n",
       "      <td>819</td>\n",
       "    </tr>\n",
       "  </tbody>\n",
       "</table>\n",
       "</div>"
      ],
      "text/plain": [
       "   sum_title\n",
       "0        819"
      ]
     },
     "execution_count": 23,
     "metadata": {},
     "output_type": "execute_result"
    }
   ],
   "source": [
    "query_1 = '''\n",
    "           SELECT COUNT(title) as sum_title\n",
    "           FROM books\n",
    "           WHERE publication_date > '2000-01-01'\n",
    "        '''  \n",
    "query_1 = pd.io.sql.read_sql(query_1, con = engine) \n",
    "query_1"
   ]
  },
  {
   "cell_type": "markdown",
   "metadata": {},
   "source": [
    "После 1 января 2000 года было выпущено 819 книг.\n",
    "\n",
    "Далее посчитаем для каждой книги количество обзоров и среднюю оценку."
   ]
  },
  {
   "cell_type": "code",
   "execution_count": 24,
   "metadata": {},
   "outputs": [
    {
     "data": {
      "text/html": [
       "<div>\n",
       "<style scoped>\n",
       "    .dataframe tbody tr th:only-of-type {\n",
       "        vertical-align: middle;\n",
       "    }\n",
       "\n",
       "    .dataframe tbody tr th {\n",
       "        vertical-align: top;\n",
       "    }\n",
       "\n",
       "    .dataframe thead th {\n",
       "        text-align: right;\n",
       "    }\n",
       "</style>\n",
       "<table border=\"1\" class=\"dataframe\">\n",
       "  <thead>\n",
       "    <tr style=\"text-align: right;\">\n",
       "      <th></th>\n",
       "      <th>title</th>\n",
       "      <th>count_review</th>\n",
       "      <th>avg_rating</th>\n",
       "    </tr>\n",
       "  </thead>\n",
       "  <tbody>\n",
       "    <tr>\n",
       "      <th>0</th>\n",
       "      <td>Twilight (Twilight  #1)</td>\n",
       "      <td>1120</td>\n",
       "      <td>3.66</td>\n",
       "    </tr>\n",
       "    <tr>\n",
       "      <th>1</th>\n",
       "      <td>The Hobbit  or There and Back Again</td>\n",
       "      <td>528</td>\n",
       "      <td>4.13</td>\n",
       "    </tr>\n",
       "    <tr>\n",
       "      <th>2</th>\n",
       "      <td>The Catcher in the Rye</td>\n",
       "      <td>516</td>\n",
       "      <td>3.83</td>\n",
       "    </tr>\n",
       "    <tr>\n",
       "      <th>3</th>\n",
       "      <td>Harry Potter and the Prisoner of Azkaban (Harr...</td>\n",
       "      <td>492</td>\n",
       "      <td>4.41</td>\n",
       "    </tr>\n",
       "    <tr>\n",
       "      <th>4</th>\n",
       "      <td>Harry Potter and the Chamber of Secrets (Harry...</td>\n",
       "      <td>480</td>\n",
       "      <td>4.29</td>\n",
       "    </tr>\n",
       "    <tr>\n",
       "      <th>...</th>\n",
       "      <td>...</td>\n",
       "      <td>...</td>\n",
       "      <td>...</td>\n",
       "    </tr>\n",
       "    <tr>\n",
       "      <th>995</th>\n",
       "      <td>Anne Rice's The Vampire Lestat: A Graphic Novel</td>\n",
       "      <td>0</td>\n",
       "      <td>3.67</td>\n",
       "    </tr>\n",
       "    <tr>\n",
       "      <th>996</th>\n",
       "      <td>Leonardo's Notebooks</td>\n",
       "      <td>0</td>\n",
       "      <td>4.00</td>\n",
       "    </tr>\n",
       "    <tr>\n",
       "      <th>997</th>\n",
       "      <td>Essential Tales and Poems</td>\n",
       "      <td>0</td>\n",
       "      <td>4.00</td>\n",
       "    </tr>\n",
       "    <tr>\n",
       "      <th>998</th>\n",
       "      <td>Disney's Beauty and the Beast (A Little Golden...</td>\n",
       "      <td>0</td>\n",
       "      <td>4.00</td>\n",
       "    </tr>\n",
       "    <tr>\n",
       "      <th>999</th>\n",
       "      <td>The Cat in the Hat and Other Dr. Seuss Favorites</td>\n",
       "      <td>0</td>\n",
       "      <td>5.00</td>\n",
       "    </tr>\n",
       "  </tbody>\n",
       "</table>\n",
       "<p>1000 rows × 3 columns</p>\n",
       "</div>"
      ],
      "text/plain": [
       "                                                 title  count_review  \\\n",
       "0                              Twilight (Twilight  #1)          1120   \n",
       "1                  The Hobbit  or There and Back Again           528   \n",
       "2                               The Catcher in the Rye           516   \n",
       "3    Harry Potter and the Prisoner of Azkaban (Harr...           492   \n",
       "4    Harry Potter and the Chamber of Secrets (Harry...           480   \n",
       "..                                                 ...           ...   \n",
       "995    Anne Rice's The Vampire Lestat: A Graphic Novel             0   \n",
       "996                               Leonardo's Notebooks             0   \n",
       "997                          Essential Tales and Poems             0   \n",
       "998  Disney's Beauty and the Beast (A Little Golden...             0   \n",
       "999   The Cat in the Hat and Other Dr. Seuss Favorites             0   \n",
       "\n",
       "     avg_rating  \n",
       "0          3.66  \n",
       "1          4.13  \n",
       "2          3.83  \n",
       "3          4.41  \n",
       "4          4.29  \n",
       "..          ...  \n",
       "995        3.67  \n",
       "996        4.00  \n",
       "997        4.00  \n",
       "998        4.00  \n",
       "999        5.00  \n",
       "\n",
       "[1000 rows x 3 columns]"
      ]
     },
     "execution_count": 24,
     "metadata": {},
     "output_type": "execute_result"
    }
   ],
   "source": [
    "query_2 = '''\n",
    "           SELECT b.title,\n",
    "                  COUNT(rev.review_id) as count_review,\n",
    "                  ROUND(AVG(rat.rating), 2) as avg_rating\n",
    "           FROM books as b\n",
    "           LEFT JOIN reviews as rev ON b.book_id=rev.book_id\n",
    "           LEFT JOIN ratings as rat ON b.book_id=rat.book_id\n",
    "           GROUP BY b.book_id\n",
    "           ORDER BY count_review DESC, avg_rating\n",
    "        '''  \n",
    "query_2 = pd.io.sql.read_sql(query_2, con = engine)\n",
    "query_2"
   ]
  },
  {
   "cell_type": "markdown",
   "metadata": {},
   "source": [
    "Мы вывели книги с самым большим количеством отзывов с максимальной оценкой.\n",
    "\n",
    "Следующим шагом определим издательство, которое выпустило наибольшее число книг толще 50 страниц."
   ]
  },
  {
   "cell_type": "code",
   "execution_count": 25,
   "metadata": {},
   "outputs": [
    {
     "data": {
      "text/html": [
       "<div>\n",
       "<style scoped>\n",
       "    .dataframe tbody tr th:only-of-type {\n",
       "        vertical-align: middle;\n",
       "    }\n",
       "\n",
       "    .dataframe tbody tr th {\n",
       "        vertical-align: top;\n",
       "    }\n",
       "\n",
       "    .dataframe thead th {\n",
       "        text-align: right;\n",
       "    }\n",
       "</style>\n",
       "<table border=\"1\" class=\"dataframe\">\n",
       "  <thead>\n",
       "    <tr style=\"text-align: right;\">\n",
       "      <th></th>\n",
       "      <th>publisher</th>\n",
       "      <th>count_books</th>\n",
       "    </tr>\n",
       "  </thead>\n",
       "  <tbody>\n",
       "    <tr>\n",
       "      <th>0</th>\n",
       "      <td>Penguin Books</td>\n",
       "      <td>42</td>\n",
       "    </tr>\n",
       "  </tbody>\n",
       "</table>\n",
       "</div>"
      ],
      "text/plain": [
       "       publisher  count_books\n",
       "0  Penguin Books           42"
      ]
     },
     "execution_count": 25,
     "metadata": {},
     "output_type": "execute_result"
    }
   ],
   "source": [
    "query_p = '''\n",
    "           SELECT p.publisher,\n",
    "                  COUNT(b.book_id) as count_books\n",
    "           FROM publishers as p\n",
    "           LEFT JOIN books as b ON p.publisher_id=b.publisher_id\n",
    "           WHERE b.num_pages > 50\n",
    "           GROUP BY p.publisher\n",
    "           ORDER BY count_books DESC\n",
    "        '''  \n",
    "query_p = pd.io.sql.read_sql(query_p, con = engine)\n",
    "query_p.head(1)"
   ]
  },
  {
   "cell_type": "markdown",
   "metadata": {},
   "source": [
    "Издательство Penguin Books выпускает больше всего книг с толщиной более 50 страниц.\n",
    "\n",
    "Далее определим автора с самой высокой средней оценкой книг. Учтем только книги с 50 и более оценками."
   ]
  },
  {
   "cell_type": "code",
   "execution_count": 26,
   "metadata": {
    "scrolled": false
   },
   "outputs": [
    {
     "data": {
      "text/html": [
       "<div>\n",
       "<style scoped>\n",
       "    .dataframe tbody tr th:only-of-type {\n",
       "        vertical-align: middle;\n",
       "    }\n",
       "\n",
       "    .dataframe tbody tr th {\n",
       "        vertical-align: top;\n",
       "    }\n",
       "\n",
       "    .dataframe thead th {\n",
       "        text-align: right;\n",
       "    }\n",
       "</style>\n",
       "<table border=\"1\" class=\"dataframe\">\n",
       "  <thead>\n",
       "    <tr style=\"text-align: right;\">\n",
       "      <th></th>\n",
       "      <th>author</th>\n",
       "      <th>avg_rating</th>\n",
       "    </tr>\n",
       "  </thead>\n",
       "  <tbody>\n",
       "    <tr>\n",
       "      <th>0</th>\n",
       "      <td>J.K. Rowling/Mary GrandPré</td>\n",
       "      <td>4.29</td>\n",
       "    </tr>\n",
       "  </tbody>\n",
       "</table>\n",
       "</div>"
      ],
      "text/plain": [
       "                       author  avg_rating\n",
       "0  J.K. Rowling/Mary GrandPré        4.29"
      ]
     },
     "execution_count": 26,
     "metadata": {},
     "output_type": "execute_result"
    }
   ],
   "source": [
    "query_4 = '''\n",
    "           SELECT aut.author,\n",
    "                  ROUND(AVG(rat.rating), 2) as avg_rating\n",
    "           FROM authors as aut\n",
    "           JOIN books as b ON aut.author_id=b.author_id\n",
    "           JOIN ratings as rat ON b.book_id=rat.book_id\n",
    "           GROUP BY aut.author\n",
    "           HAVING COUNT(rat.rating_id) > 50\n",
    "           ORDER BY avg_rating DESC\n",
    "        '''  \n",
    "query_4 = pd.io.sql.read_sql(query_4, con = engine)\n",
    "query_4.head(1)"
   ]
  },
  {
   "cell_type": "markdown",
   "metadata": {},
   "source": [
    "J.K. Rowling и художница Mary GrandPré публикуют книги с самой высокой пользовательской оценкой. По всей видимости речь идет о серии книг о Гарри Поттере.\n",
    "\n",
    "Следующим шагом посчитаем среднее количество обзоров от пользователей, которые поставили больше 50 оценок."
   ]
  },
  {
   "cell_type": "code",
   "execution_count": 27,
   "metadata": {},
   "outputs": [
    {
     "data": {
      "text/html": [
       "<div>\n",
       "<style scoped>\n",
       "    .dataframe tbody tr th:only-of-type {\n",
       "        vertical-align: middle;\n",
       "    }\n",
       "\n",
       "    .dataframe tbody tr th {\n",
       "        vertical-align: top;\n",
       "    }\n",
       "\n",
       "    .dataframe thead th {\n",
       "        text-align: right;\n",
       "    }\n",
       "</style>\n",
       "<table border=\"1\" class=\"dataframe\">\n",
       "  <thead>\n",
       "    <tr style=\"text-align: right;\">\n",
       "      <th></th>\n",
       "      <th>round</th>\n",
       "    </tr>\n",
       "  </thead>\n",
       "  <tbody>\n",
       "    <tr>\n",
       "      <th>0</th>\n",
       "      <td>24.33</td>\n",
       "    </tr>\n",
       "  </tbody>\n",
       "</table>\n",
       "</div>"
      ],
      "text/plain": [
       "   round\n",
       "0  24.33"
      ]
     },
     "execution_count": 27,
     "metadata": {},
     "output_type": "execute_result"
    }
   ],
   "source": [
    "query_rev = '''\n",
    "           SELECT ROUND(AVG(cr.count_reviews), 2)\n",
    "           FROM (SELECT username,\n",
    "                        COUNT(review_id) as count_reviews\n",
    "                 FROM reviews\n",
    "                 WHERE username IN (SELECT username\n",
    "                                    FROM ratings\n",
    "                                    GROUP BY username\n",
    "                                    HAVING COUNT(rating_id) > 50)\n",
    "                 GROUP BY username) as cr\n",
    "             \n",
    "        '''  \n",
    "query_rev = pd.io.sql.read_sql(query_rev, con = engine)\n",
    "query_rev.head(50)"
   ]
  },
  {
   "cell_type": "markdown",
   "metadata": {},
   "source": [
    "В среднем пользователи, которые ставят больше 50 оценок, пишут 24,33 обзора на прочитанную литературу."
   ]
  }
 ],
 "metadata": {
  "ExecuteTimeLog": [
   {
    "duration": 536,
    "start_time": "2023-03-19T17:44:26.859Z"
   },
   {
    "duration": 7720,
    "start_time": "2023-03-19T17:44:41.648Z"
   },
   {
    "duration": 5,
    "start_time": "2023-03-19T17:45:35.761Z"
   },
   {
    "duration": 4,
    "start_time": "2023-03-19T17:49:34.124Z"
   },
   {
    "duration": 60,
    "start_time": "2023-03-19T17:49:37.028Z"
   },
   {
    "duration": 4,
    "start_time": "2023-03-19T17:50:20.146Z"
   },
   {
    "duration": 3,
    "start_time": "2023-03-19T18:01:47.410Z"
   },
   {
    "duration": 49,
    "start_time": "2023-03-19T18:01:48.828Z"
   },
   {
    "duration": 2,
    "start_time": "2023-03-19T18:01:58.172Z"
   },
   {
    "duration": 16,
    "start_time": "2023-03-19T18:01:58.659Z"
   },
   {
    "duration": 16,
    "start_time": "2023-03-19T18:02:04.948Z"
   },
   {
    "duration": 14,
    "start_time": "2023-03-19T18:02:21.264Z"
   },
   {
    "duration": 17,
    "start_time": "2023-03-19T18:02:22.006Z"
   },
   {
    "duration": 12,
    "start_time": "2023-03-19T18:02:43.321Z"
   },
   {
    "duration": 16,
    "start_time": "2023-03-19T18:02:59.828Z"
   },
   {
    "duration": 16,
    "start_time": "2023-03-19T18:03:14.901Z"
   },
   {
    "duration": 14,
    "start_time": "2023-03-19T18:03:32.711Z"
   },
   {
    "duration": 158,
    "start_time": "2023-03-19T18:10:31.448Z"
   },
   {
    "duration": 12,
    "start_time": "2023-03-19T18:11:59.909Z"
   },
   {
    "duration": 32,
    "start_time": "2023-03-19T18:12:11.214Z"
   },
   {
    "duration": 113,
    "start_time": "2023-03-19T18:15:08.082Z"
   },
   {
    "duration": 11,
    "start_time": "2023-03-19T18:15:13.603Z"
   },
   {
    "duration": 11,
    "start_time": "2023-03-19T18:15:25.732Z"
   },
   {
    "duration": 21,
    "start_time": "2023-03-19T18:39:49.931Z"
   },
   {
    "duration": 97,
    "start_time": "2023-03-19T18:45:44.588Z"
   },
   {
    "duration": 11,
    "start_time": "2023-03-19T18:46:11.694Z"
   },
   {
    "duration": 111,
    "start_time": "2023-03-19T18:48:15.142Z"
   },
   {
    "duration": 106,
    "start_time": "2023-03-19T18:48:31.297Z"
   },
   {
    "duration": 119,
    "start_time": "2023-03-19T18:48:45.922Z"
   },
   {
    "duration": 107,
    "start_time": "2023-03-19T18:48:57.810Z"
   },
   {
    "duration": 91,
    "start_time": "2023-03-19T18:49:03.495Z"
   },
   {
    "duration": 120,
    "start_time": "2023-03-19T18:49:34.099Z"
   },
   {
    "duration": 93,
    "start_time": "2023-03-19T18:49:57.609Z"
   },
   {
    "duration": 95,
    "start_time": "2023-03-19T18:50:19.125Z"
   },
   {
    "duration": 22,
    "start_time": "2023-03-19T18:51:44.239Z"
   },
   {
    "duration": 20,
    "start_time": "2023-03-19T18:52:02.017Z"
   },
   {
    "duration": 118,
    "start_time": "2023-03-19T18:54:27.745Z"
   },
   {
    "duration": 127,
    "start_time": "2023-03-19T18:54:49.758Z"
   },
   {
    "duration": 98,
    "start_time": "2023-03-19T18:55:01.319Z"
   },
   {
    "duration": 20,
    "start_time": "2023-03-19T18:55:22.857Z"
   },
   {
    "duration": 94,
    "start_time": "2023-03-19T18:56:28.897Z"
   },
   {
    "duration": 20,
    "start_time": "2023-03-19T18:58:10.619Z"
   },
   {
    "duration": 24,
    "start_time": "2023-03-19T18:58:16.217Z"
   },
   {
    "duration": 18,
    "start_time": "2023-03-19T19:00:18.508Z"
   },
   {
    "duration": 15,
    "start_time": "2023-03-19T19:00:19.300Z"
   },
   {
    "duration": 12,
    "start_time": "2023-03-19T19:00:19.956Z"
   },
   {
    "duration": 24,
    "start_time": "2023-03-19T19:00:20.619Z"
   },
   {
    "duration": 18,
    "start_time": "2023-03-19T19:00:21.301Z"
   },
   {
    "duration": 14,
    "start_time": "2023-03-19T19:00:25.540Z"
   },
   {
    "duration": 29,
    "start_time": "2023-03-19T19:00:55.996Z"
   },
   {
    "duration": 127,
    "start_time": "2023-03-19T19:01:07.338Z"
   },
   {
    "duration": 22,
    "start_time": "2023-03-19T19:01:16.896Z"
   },
   {
    "duration": 93,
    "start_time": "2023-03-19T19:02:09.897Z"
   },
   {
    "duration": 128,
    "start_time": "2023-03-19T19:05:03.959Z"
   },
   {
    "duration": 93,
    "start_time": "2023-03-19T19:05:11.495Z"
   },
   {
    "duration": 15,
    "start_time": "2023-03-19T19:05:32.161Z"
   },
   {
    "duration": 17,
    "start_time": "2023-03-19T19:06:30.359Z"
   },
   {
    "duration": 23,
    "start_time": "2023-03-19T19:06:44.198Z"
   },
   {
    "duration": 16,
    "start_time": "2023-03-19T19:06:57.220Z"
   },
   {
    "duration": 131,
    "start_time": "2023-03-19T19:07:27.848Z"
   },
   {
    "duration": 122,
    "start_time": "2023-03-19T19:11:36.621Z"
   },
   {
    "duration": 92,
    "start_time": "2023-03-19T19:11:59.287Z"
   },
   {
    "duration": 19,
    "start_time": "2023-03-19T19:12:21.553Z"
   },
   {
    "duration": 24,
    "start_time": "2023-03-19T19:13:04.417Z"
   },
   {
    "duration": 97,
    "start_time": "2023-03-19T19:15:35.720Z"
   },
   {
    "duration": 98,
    "start_time": "2023-03-19T19:15:51.041Z"
   },
   {
    "duration": 124,
    "start_time": "2023-03-19T19:16:38.023Z"
   },
   {
    "duration": 89,
    "start_time": "2023-03-19T19:17:12.700Z"
   },
   {
    "duration": 15,
    "start_time": "2023-03-19T19:17:40.599Z"
   },
   {
    "duration": 94,
    "start_time": "2023-03-19T19:17:54.395Z"
   },
   {
    "duration": 95,
    "start_time": "2023-03-19T19:17:58.145Z"
   },
   {
    "duration": 115,
    "start_time": "2023-03-19T19:19:49.113Z"
   },
   {
    "duration": 94,
    "start_time": "2023-03-19T19:20:12.002Z"
   },
   {
    "duration": 99,
    "start_time": "2023-03-19T19:20:36.821Z"
   },
   {
    "duration": 100,
    "start_time": "2023-03-19T19:20:45.030Z"
   },
   {
    "duration": 127,
    "start_time": "2023-03-19T19:23:52.540Z"
   },
   {
    "duration": 102,
    "start_time": "2023-03-19T19:24:31.298Z"
   },
   {
    "duration": 116,
    "start_time": "2023-03-19T19:24:42.588Z"
   },
   {
    "duration": 93,
    "start_time": "2023-03-19T19:25:01.428Z"
   },
   {
    "duration": 89,
    "start_time": "2023-03-19T19:27:18.844Z"
   },
   {
    "duration": 89,
    "start_time": "2023-03-19T19:27:28.789Z"
   },
   {
    "duration": 94,
    "start_time": "2023-03-19T19:27:31.408Z"
   },
   {
    "duration": 92,
    "start_time": "2023-03-19T19:28:02.602Z"
   },
   {
    "duration": 102,
    "start_time": "2023-03-19T19:28:21.460Z"
   },
   {
    "duration": 109,
    "start_time": "2023-03-19T19:28:52.289Z"
   },
   {
    "duration": 20,
    "start_time": "2023-03-19T19:29:10.356Z"
   },
   {
    "duration": 90,
    "start_time": "2023-03-19T19:30:41.037Z"
   },
   {
    "duration": 16,
    "start_time": "2023-03-19T19:30:47.462Z"
   },
   {
    "duration": 108,
    "start_time": "2023-03-19T19:32:38.347Z"
   },
   {
    "duration": 91,
    "start_time": "2023-03-19T19:32:55.006Z"
   },
   {
    "duration": 109,
    "start_time": "2023-03-19T19:33:20.202Z"
   },
   {
    "duration": 25,
    "start_time": "2023-03-19T19:33:51.587Z"
   },
   {
    "duration": 24,
    "start_time": "2023-03-19T19:34:26.210Z"
   },
   {
    "duration": 25,
    "start_time": "2023-03-19T19:34:36.802Z"
   },
   {
    "duration": 23,
    "start_time": "2023-03-19T19:34:47.529Z"
   },
   {
    "duration": 21,
    "start_time": "2023-03-19T19:35:33.899Z"
   },
   {
    "duration": 22,
    "start_time": "2023-03-19T19:41:57.720Z"
   },
   {
    "duration": 32,
    "start_time": "2023-03-19T19:42:14.760Z"
   },
   {
    "duration": 23,
    "start_time": "2023-03-19T19:42:35.706Z"
   },
   {
    "duration": 92,
    "start_time": "2023-03-19T19:42:46.598Z"
   },
   {
    "duration": 22,
    "start_time": "2023-03-19T19:42:51.787Z"
   },
   {
    "duration": 29,
    "start_time": "2023-03-19T19:43:04.095Z"
   },
   {
    "duration": 24,
    "start_time": "2023-03-19T19:43:13.742Z"
   },
   {
    "duration": 96,
    "start_time": "2023-03-19T19:49:26.326Z"
   },
   {
    "duration": 14,
    "start_time": "2023-03-19T19:49:46.906Z"
   },
   {
    "duration": 9,
    "start_time": "2023-03-19T19:50:08.159Z"
   },
   {
    "duration": 12,
    "start_time": "2023-03-19T19:50:12.851Z"
   },
   {
    "duration": 22,
    "start_time": "2023-03-19T19:50:23.098Z"
   },
   {
    "duration": 25,
    "start_time": "2023-03-19T19:50:36.511Z"
   },
   {
    "duration": 12,
    "start_time": "2023-03-19T19:50:57.122Z"
   },
   {
    "duration": 13,
    "start_time": "2023-03-19T19:51:26.694Z"
   },
   {
    "duration": 109,
    "start_time": "2023-03-19T19:57:09.394Z"
   },
   {
    "duration": 120,
    "start_time": "2023-03-19T19:57:30.502Z"
   },
   {
    "duration": 116,
    "start_time": "2023-03-19T19:57:45.004Z"
   },
   {
    "duration": 168,
    "start_time": "2023-03-19T19:57:54.239Z"
   },
   {
    "duration": 120,
    "start_time": "2023-03-19T19:59:00.106Z"
   },
   {
    "duration": 127,
    "start_time": "2023-03-19T19:59:17.320Z"
   },
   {
    "duration": 159,
    "start_time": "2023-03-19T20:00:33.722Z"
   },
   {
    "duration": 124,
    "start_time": "2023-03-19T20:01:08.601Z"
   },
   {
    "duration": 14,
    "start_time": "2023-03-19T20:01:36.285Z"
   },
   {
    "duration": 18,
    "start_time": "2023-03-19T20:05:03.368Z"
   },
   {
    "duration": 20,
    "start_time": "2023-03-19T20:05:33.124Z"
   },
   {
    "duration": 20,
    "start_time": "2023-03-19T20:05:48.701Z"
   },
   {
    "duration": 95,
    "start_time": "2023-03-19T20:07:42.805Z"
   },
   {
    "duration": 94,
    "start_time": "2023-03-19T20:08:22.056Z"
   },
   {
    "duration": 97,
    "start_time": "2023-03-19T20:08:29.609Z"
   },
   {
    "duration": 18,
    "start_time": "2023-03-19T20:08:45.538Z"
   },
   {
    "duration": 115,
    "start_time": "2023-03-19T20:18:20.060Z"
   },
   {
    "duration": 99,
    "start_time": "2023-03-19T20:19:43.536Z"
   },
   {
    "duration": 22,
    "start_time": "2023-03-19T20:20:01.806Z"
   },
   {
    "duration": 22,
    "start_time": "2023-03-19T20:20:31.861Z"
   },
   {
    "duration": 97,
    "start_time": "2023-03-19T20:21:26.604Z"
   },
   {
    "duration": 91,
    "start_time": "2023-03-19T20:21:33.428Z"
   },
   {
    "duration": 88,
    "start_time": "2023-03-19T20:32:29.681Z"
   },
   {
    "duration": 757,
    "start_time": "2023-03-20T07:28:35.387Z"
   },
   {
    "duration": 7977,
    "start_time": "2023-03-20T07:28:36.149Z"
   },
   {
    "duration": 695,
    "start_time": "2023-03-20T07:28:44.141Z"
   },
   {
    "duration": 148,
    "start_time": "2023-03-20T07:28:44.853Z"
   },
   {
    "duration": 96,
    "start_time": "2023-03-20T07:28:45.004Z"
   },
   {
    "duration": 138,
    "start_time": "2023-03-20T07:28:45.102Z"
   },
   {
    "duration": 110,
    "start_time": "2023-03-20T07:28:45.242Z"
   },
   {
    "duration": 90,
    "start_time": "2023-03-20T07:28:45.354Z"
   },
   {
    "duration": 101,
    "start_time": "2023-03-20T07:28:45.447Z"
   },
   {
    "duration": 87,
    "start_time": "2023-03-20T07:28:45.550Z"
   },
   {
    "duration": 96,
    "start_time": "2023-03-20T07:28:45.640Z"
   },
   {
    "duration": 265,
    "start_time": "2023-03-20T07:28:45.739Z"
   },
   {
    "duration": 177,
    "start_time": "2023-03-20T07:30:31.674Z"
   },
   {
    "duration": 125,
    "start_time": "2023-03-20T07:30:41.185Z"
   },
   {
    "duration": 237,
    "start_time": "2023-03-20T07:31:18.517Z"
   },
   {
    "duration": 82,
    "start_time": "2023-03-20T07:31:39.300Z"
   },
   {
    "duration": 191,
    "start_time": "2023-03-20T07:32:36.134Z"
   },
   {
    "duration": 181,
    "start_time": "2023-03-20T07:33:14.927Z"
   },
   {
    "duration": 149,
    "start_time": "2023-03-20T07:33:51.774Z"
   },
   {
    "duration": 214,
    "start_time": "2023-03-20T07:37:06.858Z"
   },
   {
    "duration": 162,
    "start_time": "2023-03-20T07:37:57.402Z"
   },
   {
    "duration": 89,
    "start_time": "2023-03-20T07:38:24.252Z"
   },
   {
    "duration": 98,
    "start_time": "2023-03-20T07:39:30.886Z"
   },
   {
    "duration": 87,
    "start_time": "2023-03-20T07:40:11.516Z"
   },
   {
    "duration": 114,
    "start_time": "2023-03-20T07:41:01.416Z"
   },
   {
    "duration": 178,
    "start_time": "2023-03-20T07:46:04.429Z"
   },
   {
    "duration": 238,
    "start_time": "2023-03-20T07:46:17.462Z"
   },
   {
    "duration": 249,
    "start_time": "2023-03-20T07:46:22.665Z"
   },
   {
    "duration": 112,
    "start_time": "2023-03-20T07:47:00.178Z"
   },
   {
    "duration": 216,
    "start_time": "2023-03-20T07:47:51.711Z"
   },
   {
    "duration": 108,
    "start_time": "2023-03-20T07:48:31.210Z"
   },
   {
    "duration": 191,
    "start_time": "2023-03-20T07:49:03.756Z"
   },
   {
    "duration": 207,
    "start_time": "2023-03-20T08:57:38.055Z"
   },
   {
    "duration": 202,
    "start_time": "2023-03-20T08:57:56.971Z"
   },
   {
    "duration": 715,
    "start_time": "2023-03-20T08:58:08.221Z"
   },
   {
    "duration": 11359,
    "start_time": "2023-03-20T08:58:08.940Z"
   },
   {
    "duration": 454,
    "start_time": "2023-03-20T08:58:20.307Z"
   },
   {
    "duration": 94,
    "start_time": "2023-03-20T08:58:20.763Z"
   },
   {
    "duration": 107,
    "start_time": "2023-03-20T08:58:20.860Z"
   },
   {
    "duration": 130,
    "start_time": "2023-03-20T08:58:20.969Z"
   },
   {
    "duration": 105,
    "start_time": "2023-03-20T08:58:21.101Z"
   },
   {
    "duration": 100,
    "start_time": "2023-03-20T08:58:21.209Z"
   },
   {
    "duration": 111,
    "start_time": "2023-03-20T08:58:21.315Z"
   },
   {
    "duration": 93,
    "start_time": "2023-03-20T08:58:21.428Z"
   },
   {
    "duration": 102,
    "start_time": "2023-03-20T08:58:21.525Z"
   },
   {
    "duration": 310,
    "start_time": "2023-03-20T08:58:21.631Z"
   },
   {
    "duration": 103,
    "start_time": "2023-03-20T09:00:41.560Z"
   },
   {
    "duration": 104,
    "start_time": "2023-03-20T09:02:28.350Z"
   },
   {
    "duration": 106,
    "start_time": "2023-03-20T09:04:28.861Z"
   },
   {
    "duration": 247,
    "start_time": "2023-03-20T09:05:07.218Z"
   },
   {
    "duration": 106,
    "start_time": "2023-03-20T09:05:16.518Z"
   },
   {
    "duration": 96,
    "start_time": "2023-03-20T09:08:04.365Z"
   },
   {
    "duration": 116,
    "start_time": "2023-03-20T09:08:30.416Z"
   },
   {
    "duration": 1462,
    "start_time": "2023-03-20T09:11:09.128Z"
   },
   {
    "duration": 17297,
    "start_time": "2023-03-20T09:11:10.595Z"
   },
   {
    "duration": 548,
    "start_time": "2023-03-20T09:11:27.894Z"
   },
   {
    "duration": 117,
    "start_time": "2023-03-20T09:11:28.444Z"
   },
   {
    "duration": 139,
    "start_time": "2023-03-20T09:11:28.577Z"
   },
   {
    "duration": 164,
    "start_time": "2023-03-20T09:11:28.723Z"
   },
   {
    "duration": 151,
    "start_time": "2023-03-20T09:11:28.892Z"
   },
   {
    "duration": 128,
    "start_time": "2023-03-20T09:11:29.045Z"
   },
   {
    "duration": 184,
    "start_time": "2023-03-20T09:11:29.175Z"
   },
   {
    "duration": 111,
    "start_time": "2023-03-20T09:11:29.362Z"
   },
   {
    "duration": 175,
    "start_time": "2023-03-20T09:11:29.476Z"
   },
   {
    "duration": 132,
    "start_time": "2023-03-20T09:11:29.653Z"
   },
   {
    "duration": 724,
    "start_time": "2023-03-20T12:33:26.577Z"
   },
   {
    "duration": 9929,
    "start_time": "2023-03-20T12:33:27.313Z"
   },
   {
    "duration": 407,
    "start_time": "2023-03-20T12:33:37.244Z"
   },
   {
    "duration": 95,
    "start_time": "2023-03-20T12:33:37.653Z"
   },
   {
    "duration": 98,
    "start_time": "2023-03-20T12:33:37.750Z"
   },
   {
    "duration": 123,
    "start_time": "2023-03-20T12:33:37.850Z"
   },
   {
    "duration": 111,
    "start_time": "2023-03-20T12:33:37.974Z"
   },
   {
    "duration": 123,
    "start_time": "2023-03-20T12:33:38.087Z"
   },
   {
    "duration": 128,
    "start_time": "2023-03-20T12:33:38.217Z"
   },
   {
    "duration": 107,
    "start_time": "2023-03-20T12:33:38.347Z"
   },
   {
    "duration": 102,
    "start_time": "2023-03-20T12:33:38.456Z"
   },
   {
    "duration": 107,
    "start_time": "2023-03-20T12:33:38.561Z"
   },
   {
    "duration": 137,
    "start_time": "2023-03-20T12:34:20.040Z"
   },
   {
    "duration": 196,
    "start_time": "2023-03-20T12:34:39.868Z"
   },
   {
    "duration": 138,
    "start_time": "2023-03-20T12:35:49.764Z"
   },
   {
    "duration": 370,
    "start_time": "2023-03-20T12:36:34.942Z"
   },
   {
    "duration": 286,
    "start_time": "2023-03-20T12:37:42.381Z"
   },
   {
    "duration": 125,
    "start_time": "2023-03-20T12:38:04.545Z"
   },
   {
    "duration": 122,
    "start_time": "2023-03-20T12:38:08.174Z"
   },
   {
    "duration": 120,
    "start_time": "2023-03-20T12:39:27.776Z"
   },
   {
    "duration": 228,
    "start_time": "2023-03-20T12:43:39.072Z"
   },
   {
    "duration": 208,
    "start_time": "2023-03-20T12:43:54.835Z"
   },
   {
    "duration": 79,
    "start_time": "2023-03-20T12:44:05.517Z"
   },
   {
    "duration": 99,
    "start_time": "2023-03-20T12:44:18.162Z"
   },
   {
    "duration": 186,
    "start_time": "2023-03-20T12:44:33.377Z"
   },
   {
    "duration": 534,
    "start_time": "2023-03-20T16:06:31.241Z"
   },
   {
    "duration": 7481,
    "start_time": "2023-03-20T16:06:31.777Z"
   },
   {
    "duration": 300,
    "start_time": "2023-03-20T16:06:39.260Z"
   },
   {
    "duration": 78,
    "start_time": "2023-03-20T16:06:39.563Z"
   },
   {
    "duration": 75,
    "start_time": "2023-03-20T16:06:39.643Z"
   },
   {
    "duration": 107,
    "start_time": "2023-03-20T16:06:39.719Z"
   },
   {
    "duration": 94,
    "start_time": "2023-03-20T16:06:39.829Z"
   },
   {
    "duration": 80,
    "start_time": "2023-03-20T16:06:39.925Z"
   },
   {
    "duration": 88,
    "start_time": "2023-03-20T16:06:40.007Z"
   },
   {
    "duration": 80,
    "start_time": "2023-03-20T16:06:40.097Z"
   },
   {
    "duration": 78,
    "start_time": "2023-03-20T16:06:40.178Z"
   },
   {
    "duration": 111,
    "start_time": "2023-03-20T16:06:40.258Z"
   },
   {
    "duration": 220,
    "start_time": "2023-03-20T16:09:39.749Z"
   },
   {
    "duration": 142,
    "start_time": "2023-03-20T16:09:57.832Z"
   },
   {
    "duration": 80,
    "start_time": "2023-03-20T16:10:27.595Z"
   },
   {
    "duration": 135,
    "start_time": "2023-03-20T16:15:59.433Z"
   },
   {
    "duration": 147,
    "start_time": "2023-03-20T16:16:04.269Z"
   },
   {
    "duration": 73,
    "start_time": "2023-03-20T16:19:15.857Z"
   },
   {
    "duration": 73,
    "start_time": "2023-03-20T16:22:00.510Z"
   },
   {
    "duration": 132,
    "start_time": "2023-03-20T16:24:40.478Z"
   },
   {
    "duration": 133,
    "start_time": "2023-03-20T16:24:47.138Z"
   },
   {
    "duration": 72,
    "start_time": "2023-03-20T16:25:24.847Z"
   },
   {
    "duration": 79,
    "start_time": "2023-03-20T16:26:42.318Z"
   },
   {
    "duration": 74,
    "start_time": "2023-03-20T16:26:56.111Z"
   },
   {
    "duration": 157,
    "start_time": "2023-03-20T18:15:34.642Z"
   },
   {
    "duration": 73,
    "start_time": "2023-03-20T18:15:59.239Z"
   },
   {
    "duration": 131,
    "start_time": "2023-03-20T18:16:24.162Z"
   },
   {
    "duration": 132,
    "start_time": "2023-03-20T18:19:36.442Z"
   },
   {
    "duration": 128,
    "start_time": "2023-03-20T18:19:41.370Z"
   },
   {
    "duration": 95,
    "start_time": "2023-03-20T18:25:16.122Z"
   },
   {
    "duration": 85,
    "start_time": "2023-03-20T18:26:31.769Z"
   },
   {
    "duration": 81,
    "start_time": "2023-03-20T18:27:00.052Z"
   },
   {
    "duration": 882,
    "start_time": "2023-03-20T18:27:29.761Z"
   },
   {
    "duration": 220,
    "start_time": "2023-03-20T18:27:47.610Z"
   },
   {
    "duration": 84,
    "start_time": "2023-03-20T18:45:17.191Z"
   },
   {
    "duration": 74,
    "start_time": "2023-03-20T18:46:47.844Z"
   },
   {
    "duration": 138,
    "start_time": "2023-03-20T18:52:41.207Z"
   },
   {
    "duration": 75,
    "start_time": "2023-03-20T18:58:38.785Z"
   },
   {
    "duration": 76,
    "start_time": "2023-03-20T18:58:48.384Z"
   },
   {
    "duration": 72,
    "start_time": "2023-03-20T19:03:01.126Z"
   },
   {
    "duration": 71,
    "start_time": "2023-03-20T19:07:32.711Z"
   },
   {
    "duration": 79,
    "start_time": "2023-03-20T19:07:55.234Z"
   },
   {
    "duration": 71,
    "start_time": "2023-03-20T19:10:53.646Z"
   },
   {
    "duration": 74,
    "start_time": "2023-03-20T19:11:13.097Z"
   },
   {
    "duration": 74,
    "start_time": "2023-03-20T19:14:00.118Z"
   },
   {
    "duration": 83,
    "start_time": "2023-03-20T19:14:23.739Z"
   },
   {
    "duration": 70,
    "start_time": "2023-03-20T19:16:48.075Z"
   },
   {
    "duration": 75,
    "start_time": "2023-03-20T19:17:12.790Z"
   },
   {
    "duration": 577,
    "start_time": "2023-03-20T19:19:50.432Z"
   },
   {
    "duration": 4828,
    "start_time": "2023-03-20T19:19:51.011Z"
   },
   {
    "duration": 286,
    "start_time": "2023-03-20T19:19:55.841Z"
   },
   {
    "duration": 72,
    "start_time": "2023-03-20T19:19:56.130Z"
   },
   {
    "duration": 95,
    "start_time": "2023-03-20T19:19:56.204Z"
   },
   {
    "duration": 79,
    "start_time": "2023-03-20T19:19:56.301Z"
   },
   {
    "duration": 76,
    "start_time": "2023-03-20T19:19:56.382Z"
   },
   {
    "duration": 74,
    "start_time": "2023-03-20T19:19:56.460Z"
   },
   {
    "duration": 84,
    "start_time": "2023-03-20T19:19:56.535Z"
   },
   {
    "duration": 78,
    "start_time": "2023-03-20T19:19:56.623Z"
   },
   {
    "duration": 83,
    "start_time": "2023-03-20T19:19:56.703Z"
   },
   {
    "duration": 74,
    "start_time": "2023-03-20T19:19:56.788Z"
   },
   {
    "duration": 86,
    "start_time": "2023-03-20T19:19:56.865Z"
   },
   {
    "duration": 98,
    "start_time": "2023-03-20T19:19:56.953Z"
   },
   {
    "duration": 139,
    "start_time": "2023-03-20T19:19:57.053Z"
   },
   {
    "duration": 71,
    "start_time": "2023-03-20T19:19:57.194Z"
   },
   {
    "duration": 878,
    "start_time": "2023-03-20T19:19:57.267Z"
   },
   {
    "duration": 79,
    "start_time": "2023-03-20T19:19:58.147Z"
   },
   {
    "duration": 108,
    "start_time": "2023-03-20T19:19:58.228Z"
   },
   {
    "duration": 72,
    "start_time": "2023-03-20T19:19:58.338Z"
   },
   {
    "duration": 225,
    "start_time": "2023-03-20T19:19:58.413Z"
   },
   {
    "duration": 74,
    "start_time": "2023-03-20T19:19:58.640Z"
   },
   {
    "duration": 72,
    "start_time": "2023-03-20T19:19:58.716Z"
   },
   {
    "duration": 86,
    "start_time": "2023-03-20T19:19:58.790Z"
   },
   {
    "duration": 74,
    "start_time": "2023-03-20T19:19:58.878Z"
   },
   {
    "duration": 81,
    "start_time": "2023-03-20T19:19:58.955Z"
   },
   {
    "duration": 73,
    "start_time": "2023-03-20T19:19:59.038Z"
   },
   {
    "duration": 559,
    "start_time": "2023-03-21T05:50:18.018Z"
   },
   {
    "duration": 9246,
    "start_time": "2023-03-21T05:50:18.579Z"
   },
   {
    "duration": 58,
    "start_time": "2023-03-21T05:50:27.827Z"
   },
   {
    "duration": 10,
    "start_time": "2023-03-21T05:50:27.887Z"
   },
   {
    "duration": 35,
    "start_time": "2023-03-21T05:50:27.899Z"
   },
   {
    "duration": 18,
    "start_time": "2023-03-21T05:50:27.936Z"
   },
   {
    "duration": 12,
    "start_time": "2023-03-21T05:50:27.955Z"
   },
   {
    "duration": 9,
    "start_time": "2023-03-21T05:50:27.968Z"
   },
   {
    "duration": 22,
    "start_time": "2023-03-21T05:50:27.979Z"
   },
   {
    "duration": 14,
    "start_time": "2023-03-21T05:50:28.003Z"
   },
   {
    "duration": 12,
    "start_time": "2023-03-21T05:50:28.019Z"
   },
   {
    "duration": 10,
    "start_time": "2023-03-21T05:50:28.040Z"
   },
   {
    "duration": 25,
    "start_time": "2023-03-21T05:50:28.052Z"
   },
   {
    "duration": 13,
    "start_time": "2023-03-21T05:50:28.078Z"
   },
   {
    "duration": 24,
    "start_time": "2023-03-21T05:50:28.092Z"
   },
   {
    "duration": 10,
    "start_time": "2023-03-21T05:50:28.118Z"
   },
   {
    "duration": 831,
    "start_time": "2023-03-21T05:50:28.130Z"
   },
   {
    "duration": 15,
    "start_time": "2023-03-21T05:50:28.962Z"
   },
   {
    "duration": 19,
    "start_time": "2023-03-21T05:50:28.979Z"
   },
   {
    "duration": 10,
    "start_time": "2023-03-21T05:50:28.999Z"
   },
   {
    "duration": 161,
    "start_time": "2023-03-21T05:50:29.010Z"
   },
   {
    "duration": 14,
    "start_time": "2023-03-21T05:50:29.172Z"
   },
   {
    "duration": 11,
    "start_time": "2023-03-21T05:50:29.188Z"
   },
   {
    "duration": 33,
    "start_time": "2023-03-21T05:50:29.200Z"
   },
   {
    "duration": 12,
    "start_time": "2023-03-21T05:50:29.234Z"
   },
   {
    "duration": 15,
    "start_time": "2023-03-21T05:50:29.247Z"
   },
   {
    "duration": 11,
    "start_time": "2023-03-21T05:50:29.263Z"
   },
   {
    "duration": 29,
    "start_time": "2023-03-21T05:51:01.471Z"
   },
   {
    "duration": 26,
    "start_time": "2023-03-21T05:51:20.572Z"
   },
   {
    "duration": 27,
    "start_time": "2023-03-21T05:52:12.930Z"
   },
   {
    "duration": 29,
    "start_time": "2023-03-21T05:53:20.281Z"
   },
   {
    "duration": 181,
    "start_time": "2023-03-21T05:55:10.068Z"
   },
   {
    "duration": 13,
    "start_time": "2023-03-21T05:55:26.601Z"
   },
   {
    "duration": 113,
    "start_time": "2023-03-21T05:56:15.225Z"
   },
   {
    "duration": 15,
    "start_time": "2023-03-21T05:56:35.486Z"
   },
   {
    "duration": 16,
    "start_time": "2023-03-21T05:56:42.464Z"
   },
   {
    "duration": 25,
    "start_time": "2023-03-21T06:05:33.858Z"
   },
   {
    "duration": 148,
    "start_time": "2023-03-21T06:05:46.032Z"
   },
   {
    "duration": 28,
    "start_time": "2023-03-21T06:05:54.264Z"
   },
   {
    "duration": 121,
    "start_time": "2023-03-21T06:07:01.494Z"
   },
   {
    "duration": 126,
    "start_time": "2023-03-21T06:07:22.351Z"
   },
   {
    "duration": 15,
    "start_time": "2023-03-21T06:07:37.480Z"
   },
   {
    "duration": 111,
    "start_time": "2023-03-21T06:08:21.476Z"
   },
   {
    "duration": 21,
    "start_time": "2023-03-21T06:10:36.318Z"
   },
   {
    "duration": 129,
    "start_time": "2023-03-21T06:11:09.731Z"
   },
   {
    "duration": 131,
    "start_time": "2023-03-21T06:11:15.087Z"
   },
   {
    "duration": 26,
    "start_time": "2023-03-21T06:11:30.206Z"
   },
   {
    "duration": 23,
    "start_time": "2023-03-21T06:11:52.011Z"
   },
   {
    "duration": 17,
    "start_time": "2023-03-21T06:12:00.705Z"
   },
   {
    "duration": 15,
    "start_time": "2023-03-21T06:12:14.878Z"
   },
   {
    "duration": 98,
    "start_time": "2023-03-21T06:12:40.899Z"
   },
   {
    "duration": 35,
    "start_time": "2023-03-21T06:12:49.346Z"
   },
   {
    "duration": 15,
    "start_time": "2023-03-21T06:13:02.391Z"
   },
   {
    "duration": 15,
    "start_time": "2023-03-21T06:13:14.657Z"
   },
   {
    "duration": 18,
    "start_time": "2023-03-21T06:13:32.054Z"
   },
   {
    "duration": 20,
    "start_time": "2023-03-21T06:14:37.514Z"
   },
   {
    "duration": 21,
    "start_time": "2023-03-21T06:14:53.711Z"
   },
   {
    "duration": 35,
    "start_time": "2023-03-21T06:15:13.381Z"
   },
   {
    "duration": 96,
    "start_time": "2023-03-21T06:15:31.684Z"
   },
   {
    "duration": 46,
    "start_time": "2023-03-21T06:15:36.707Z"
   },
   {
    "duration": 27,
    "start_time": "2023-03-21T06:16:14.793Z"
   },
   {
    "duration": 26,
    "start_time": "2023-03-21T06:17:12.907Z"
   },
   {
    "duration": 27,
    "start_time": "2023-03-21T06:17:36.554Z"
   },
   {
    "duration": 30,
    "start_time": "2023-03-21T06:18:00.866Z"
   },
   {
    "duration": 13,
    "start_time": "2023-03-21T06:19:39.299Z"
   },
   {
    "duration": 11,
    "start_time": "2023-03-21T06:19:56.934Z"
   },
   {
    "duration": 12,
    "start_time": "2023-03-21T06:20:39.329Z"
   },
   {
    "duration": 9,
    "start_time": "2023-03-21T06:21:03.977Z"
   },
   {
    "duration": 8,
    "start_time": "2023-03-21T06:21:12.478Z"
   },
   {
    "duration": 17,
    "start_time": "2023-03-21T06:21:18.122Z"
   },
   {
    "duration": 13,
    "start_time": "2023-03-21T06:22:00.721Z"
   },
   {
    "duration": 16,
    "start_time": "2023-03-21T06:24:49.206Z"
   },
   {
    "duration": 16,
    "start_time": "2023-03-21T06:25:14.142Z"
   },
   {
    "duration": 96,
    "start_time": "2023-03-21T06:26:23.127Z"
   },
   {
    "duration": 19,
    "start_time": "2023-03-21T06:26:43.920Z"
   },
   {
    "duration": 101,
    "start_time": "2023-03-21T06:27:01.043Z"
   },
   {
    "duration": 93,
    "start_time": "2023-03-21T06:27:13.595Z"
   },
   {
    "duration": 96,
    "start_time": "2023-03-21T06:28:29.542Z"
   },
   {
    "duration": 16,
    "start_time": "2023-03-21T06:28:36.237Z"
   },
   {
    "duration": 16,
    "start_time": "2023-03-21T06:28:56.677Z"
   },
   {
    "duration": 17,
    "start_time": "2023-03-21T06:29:44.011Z"
   },
   {
    "duration": 131,
    "start_time": "2023-03-21T06:31:23.677Z"
   },
   {
    "duration": 97,
    "start_time": "2023-03-21T06:31:55.186Z"
   },
   {
    "duration": 96,
    "start_time": "2023-03-21T06:32:03.263Z"
   },
   {
    "duration": 89,
    "start_time": "2023-03-21T06:32:06.837Z"
   },
   {
    "duration": 105,
    "start_time": "2023-03-21T06:32:47.525Z"
   },
   {
    "duration": 96,
    "start_time": "2023-03-21T06:32:53.821Z"
   },
   {
    "duration": 93,
    "start_time": "2023-03-21T06:33:11.095Z"
   },
   {
    "duration": 12,
    "start_time": "2023-03-21T06:33:11.243Z"
   },
   {
    "duration": 16,
    "start_time": "2023-03-21T06:33:56.105Z"
   },
   {
    "duration": 23,
    "start_time": "2023-03-21T06:34:12.599Z"
   },
   {
    "duration": 15,
    "start_time": "2023-03-21T06:35:02.701Z"
   },
   {
    "duration": 12,
    "start_time": "2023-03-21T06:35:45.081Z"
   },
   {
    "duration": 14,
    "start_time": "2023-03-21T06:35:54.903Z"
   },
   {
    "duration": 13,
    "start_time": "2023-03-21T06:38:07.757Z"
   },
   {
    "duration": 18,
    "start_time": "2023-03-21T06:38:36.228Z"
   },
   {
    "duration": 29,
    "start_time": "2023-03-21T06:39:32.678Z"
   },
   {
    "duration": 18,
    "start_time": "2023-03-21T06:39:40.354Z"
   },
   {
    "duration": 14,
    "start_time": "2023-03-21T06:39:46.125Z"
   },
   {
    "duration": 142,
    "start_time": "2023-03-21T06:40:46.160Z"
   },
   {
    "duration": 132,
    "start_time": "2023-03-21T06:41:58.133Z"
   },
   {
    "duration": 102,
    "start_time": "2023-03-21T06:42:57.010Z"
   },
   {
    "duration": 102,
    "start_time": "2023-03-21T06:43:46.564Z"
   },
   {
    "duration": 107,
    "start_time": "2023-03-21T06:44:03.793Z"
   },
   {
    "duration": 118,
    "start_time": "2023-03-21T06:44:22.758Z"
   },
   {
    "duration": 138,
    "start_time": "2023-03-21T06:58:10.708Z"
   },
   {
    "duration": 118,
    "start_time": "2023-03-21T06:58:55.593Z"
   },
   {
    "duration": 122,
    "start_time": "2023-03-21T06:59:51.333Z"
   },
   {
    "duration": 20,
    "start_time": "2023-03-21T06:59:57.693Z"
   },
   {
    "duration": 102,
    "start_time": "2023-03-21T07:00:22.229Z"
   },
   {
    "duration": 94,
    "start_time": "2023-03-21T07:00:36.306Z"
   },
   {
    "duration": 106,
    "start_time": "2023-03-21T07:00:53.001Z"
   },
   {
    "duration": 114,
    "start_time": "2023-03-21T07:01:20.190Z"
   },
   {
    "duration": 14,
    "start_time": "2023-03-21T07:01:28.753Z"
   },
   {
    "duration": 92,
    "start_time": "2023-03-21T07:05:37.334Z"
   },
   {
    "duration": 117,
    "start_time": "2023-03-21T07:06:03.817Z"
   },
   {
    "duration": 15,
    "start_time": "2023-03-21T07:06:42.812Z"
   },
   {
    "duration": 598,
    "start_time": "2023-03-21T07:27:42.318Z"
   },
   {
    "duration": 8725,
    "start_time": "2023-03-21T07:27:42.918Z"
   },
   {
    "duration": 72,
    "start_time": "2023-03-21T07:27:51.645Z"
   },
   {
    "duration": 12,
    "start_time": "2023-03-21T07:27:51.720Z"
   },
   {
    "duration": 53,
    "start_time": "2023-03-21T07:27:51.735Z"
   },
   {
    "duration": 20,
    "start_time": "2023-03-21T07:27:51.790Z"
   },
   {
    "duration": 13,
    "start_time": "2023-03-21T07:27:51.811Z"
   },
   {
    "duration": 11,
    "start_time": "2023-03-21T07:27:51.825Z"
   },
   {
    "duration": 41,
    "start_time": "2023-03-21T07:27:51.838Z"
   },
   {
    "duration": 16,
    "start_time": "2023-03-21T07:27:51.881Z"
   },
   {
    "duration": 13,
    "start_time": "2023-03-21T07:27:51.899Z"
   },
   {
    "duration": 11,
    "start_time": "2023-03-21T07:27:51.914Z"
   },
   {
    "duration": 19,
    "start_time": "2023-03-21T07:27:51.927Z"
   },
   {
    "duration": 29,
    "start_time": "2023-03-21T07:27:51.952Z"
   },
   {
    "duration": 29,
    "start_time": "2023-03-21T07:27:51.983Z"
   },
   {
    "duration": 16,
    "start_time": "2023-03-21T07:27:52.014Z"
   },
   {
    "duration": 890,
    "start_time": "2023-03-21T07:27:52.032Z"
   },
   {
    "duration": 21,
    "start_time": "2023-03-21T07:27:52.923Z"
   },
   {
    "duration": 29,
    "start_time": "2023-03-21T07:27:52.946Z"
   },
   {
    "duration": 10,
    "start_time": "2023-03-21T07:27:52.977Z"
   },
   {
    "duration": 177,
    "start_time": "2023-03-21T07:27:52.988Z"
   },
   {
    "duration": 19,
    "start_time": "2023-03-21T07:27:53.167Z"
   },
   {
    "duration": 12,
    "start_time": "2023-03-21T07:27:53.187Z"
   },
   {
    "duration": 28,
    "start_time": "2023-03-21T07:27:53.201Z"
   },
   {
    "duration": 15,
    "start_time": "2023-03-21T07:27:53.231Z"
   },
   {
    "duration": 24,
    "start_time": "2023-03-21T07:27:53.252Z"
   },
   {
    "duration": 180,
    "start_time": "2023-03-21T07:27:53.277Z"
   },
   {
    "duration": 0,
    "start_time": "2023-03-21T07:27:53.461Z"
   },
   {
    "duration": 144,
    "start_time": "2023-03-21T07:35:18.167Z"
   },
   {
    "duration": 140,
    "start_time": "2023-03-21T07:35:29.067Z"
   },
   {
    "duration": 13,
    "start_time": "2023-03-21T07:35:30.715Z"
   },
   {
    "duration": 111,
    "start_time": "2023-03-21T07:35:34.965Z"
   },
   {
    "duration": 15,
    "start_time": "2023-03-21T07:36:00.992Z"
   },
   {
    "duration": 16,
    "start_time": "2023-03-21T07:36:23.338Z"
   },
   {
    "duration": 115,
    "start_time": "2023-03-21T07:36:40.350Z"
   },
   {
    "duration": 114,
    "start_time": "2023-03-21T07:37:10.594Z"
   },
   {
    "duration": 17,
    "start_time": "2023-03-21T07:41:38.722Z"
   },
   {
    "duration": 16,
    "start_time": "2023-03-21T07:42:57.184Z"
   },
   {
    "duration": 89,
    "start_time": "2023-03-21T07:45:05.913Z"
   },
   {
    "duration": 15,
    "start_time": "2023-03-21T07:45:19.147Z"
   },
   {
    "duration": 562,
    "start_time": "2023-03-21T07:46:14.021Z"
   },
   {
    "duration": 7789,
    "start_time": "2023-03-21T07:46:14.585Z"
   },
   {
    "duration": 47,
    "start_time": "2023-03-21T07:46:22.376Z"
   },
   {
    "duration": 10,
    "start_time": "2023-03-21T07:46:22.425Z"
   },
   {
    "duration": 34,
    "start_time": "2023-03-21T07:46:22.438Z"
   },
   {
    "duration": 13,
    "start_time": "2023-03-21T07:46:22.474Z"
   },
   {
    "duration": 12,
    "start_time": "2023-03-21T07:46:22.489Z"
   },
   {
    "duration": 9,
    "start_time": "2023-03-21T07:46:22.502Z"
   },
   {
    "duration": 20,
    "start_time": "2023-03-21T07:46:22.513Z"
   },
   {
    "duration": 15,
    "start_time": "2023-03-21T07:46:22.534Z"
   },
   {
    "duration": 13,
    "start_time": "2023-03-21T07:46:22.551Z"
   },
   {
    "duration": 12,
    "start_time": "2023-03-21T07:46:22.566Z"
   },
   {
    "duration": 13,
    "start_time": "2023-03-21T07:46:22.580Z"
   },
   {
    "duration": 14,
    "start_time": "2023-03-21T07:46:22.596Z"
   },
   {
    "duration": 41,
    "start_time": "2023-03-21T07:46:22.612Z"
   },
   {
    "duration": 11,
    "start_time": "2023-03-21T07:46:22.654Z"
   },
   {
    "duration": 827,
    "start_time": "2023-03-21T07:46:22.667Z"
   },
   {
    "duration": 14,
    "start_time": "2023-03-21T07:46:23.496Z"
   },
   {
    "duration": 20,
    "start_time": "2023-03-21T07:46:23.512Z"
   },
   {
    "duration": 13,
    "start_time": "2023-03-21T07:46:23.534Z"
   },
   {
    "duration": 163,
    "start_time": "2023-03-21T07:46:23.549Z"
   },
   {
    "duration": 14,
    "start_time": "2023-03-21T07:46:23.714Z"
   },
   {
    "duration": 10,
    "start_time": "2023-03-21T07:46:23.730Z"
   },
   {
    "duration": 25,
    "start_time": "2023-03-21T07:46:23.742Z"
   },
   {
    "duration": 11,
    "start_time": "2023-03-21T07:46:23.768Z"
   },
   {
    "duration": 15,
    "start_time": "2023-03-21T07:46:23.781Z"
   },
   {
    "duration": 15,
    "start_time": "2023-03-21T07:46:23.798Z"
   },
   {
    "duration": 112,
    "start_time": "2023-03-21T11:20:42.551Z"
   }
  ],
  "kernelspec": {
   "display_name": "Python 3 (ipykernel)",
   "language": "python",
   "name": "python3"
  },
  "language_info": {
   "codemirror_mode": {
    "name": "ipython",
    "version": 3
   },
   "file_extension": ".py",
   "mimetype": "text/x-python",
   "name": "python",
   "nbconvert_exporter": "python",
   "pygments_lexer": "ipython3",
   "version": "3.11.4"
  },
  "toc": {
   "base_numbering": 1,
   "nav_menu": {},
   "number_sections": true,
   "sideBar": true,
   "skip_h1_title": true,
   "title_cell": "Table of Contents",
   "title_sidebar": "Contents",
   "toc_cell": false,
   "toc_position": {},
   "toc_section_display": true,
   "toc_window_display": false
  }
 },
 "nbformat": 4,
 "nbformat_minor": 2
}
